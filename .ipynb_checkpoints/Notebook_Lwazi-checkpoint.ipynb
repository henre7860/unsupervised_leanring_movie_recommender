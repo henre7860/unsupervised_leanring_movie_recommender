{
 "cells": [
  {
   "cell_type": "code",
   "execution_count": null,
   "id": "9f1a3c58",
   "metadata": {},
   "outputs": [],
   "source": []
  },
  {
   "cell_type": "code",
   "execution_count": null,
   "id": "fa6934a1",
   "metadata": {},
   "outputs": [],
   "source": []
  },
  {
   "cell_type": "code",
   "execution_count": null,
   "id": "ac8b07fc",
   "metadata": {},
   "outputs": [],
   "source": [
    "# import comet_ml at the top of your file\n",
    "from comet_ml import Experiment\n",
    "\n",
    "# Create an experiment with your api key\n",
    "experiment = Experiment(\n",
    "    api_key=\"p2hFSvlF0e2xt5nFlAsJlzwHu\",\n",
    "    project_name=\"recommender-system\",\n",
    "    workspace=\"celelwazi\",\n",
    ")"
   ]
  },
  {
   "cell_type": "markdown",
   "id": "5d51b95c",
   "metadata": {},
   "source": [
    "## import libraries"
   ]
  },
  {
   "cell_type": "code",
   "execution_count": 1,
   "id": "3a0226f7",
   "metadata": {},
   "outputs": [],
   "source": [
    "import numpy as np \n",
    "import pandas as pd  \n",
    "\n",
    "#visualization\n",
    "import scipy as sp  \n",
    "from scipy import sparse \n",
    "from wordcloud import WordCloud\n",
    "import matplotlib.pyplot as plt\n",
    "import seaborn as sns\n",
    "%matplotlib inline\n",
    "from wordcloud import WordCloud, STOPWORDS\n",
    "from PIL import Image\n",
    "import urllib.request\n",
    "\n",
    "# Entity featurization and similarity computation\n",
    "from sklearn.metrics.pairwise import cosine_similarity \n",
    "from sklearn.feature_extraction.text import TfidfVectorizer\n",
    "from sklearn.metrics.pairwise import linear_kernel\n",
    "\n",
    "#recommender systems\n",
    "from surprise import *\n",
    "from surprise.model_selection import train_test_split\n",
    "from surprise.model_selection import cross_validate\n",
    "\n",
    "#saving model\n",
    "import pickle"
   ]
  },
  {
   "cell_type": "markdown",
   "id": "d7153fa0",
   "metadata": {},
   "source": [
    "## load datasets"
   ]
  },
  {
   "cell_type": "code",
   "execution_count": 2,
   "id": "9be8692e",
   "metadata": {},
   "outputs": [],
   "source": [
    "train_df = pd.read_csv(\"C:/Users/lwazi/Downloads/edsa-movie-recommendation-wilderness/train.csv\")\n",
    "test_df = pd.read_csv(\"C:/Users/lwazi/Downloads/edsa-movie-recommendation-wilderness/test.csv\")\n",
    "genome_scores = pd.read_csv(\"C:/Users/lwazi/Downloads/edsa-movie-recommendation-wilderness/genome_scores.csv\")\n",
    "genome_tags = pd.read_csv(\"C:/Users/lwazi/Downloads/edsa-movie-recommendation-wilderness/genome_tags.csv\")\n",
    "imdb_data = pd.read_csv(\"C:/Users/lwazi/Downloads/edsa-movie-recommendation-wilderness/imdb_data.csv\")\n",
    "links_df = pd.read_csv(\"C:/Users/lwazi/Downloads/edsa-movie-recommendation-wilderness/links.csv\")\n",
    "movies_df = pd.read_csv(\"C:/Users/lwazi/Downloads/edsa-movie-recommendation-wilderness/movies.csv\")\n",
    "sample_submission = pd.read_csv(\"C:/Users/lwazi/Downloads/edsa-movie-recommendation-wilderness/sample_submission.csv\")\n",
    "tags_df = pd.read_csv(\"C:/Users/lwazi/Downloads/edsa-movie-recommendation-wilderness/tags.csv\")"
   ]
  },
  {
   "cell_type": "code",
   "execution_count": 3,
   "id": "a6377e76",
   "metadata": {},
   "outputs": [
    {
     "data": {
      "text/html": [
       "<div>\n",
       "<style scoped>\n",
       "    .dataframe tbody tr th:only-of-type {\n",
       "        vertical-align: middle;\n",
       "    }\n",
       "\n",
       "    .dataframe tbody tr th {\n",
       "        vertical-align: top;\n",
       "    }\n",
       "\n",
       "    .dataframe thead th {\n",
       "        text-align: right;\n",
       "    }\n",
       "</style>\n",
       "<table border=\"1\" class=\"dataframe\">\n",
       "  <thead>\n",
       "    <tr style=\"text-align: right;\">\n",
       "      <th></th>\n",
       "      <th>userId</th>\n",
       "      <th>movieId</th>\n",
       "      <th>rating</th>\n",
       "      <th>timestamp</th>\n",
       "    </tr>\n",
       "  </thead>\n",
       "  <tbody>\n",
       "    <tr>\n",
       "      <th>0</th>\n",
       "      <td>5163</td>\n",
       "      <td>57669</td>\n",
       "      <td>4.0</td>\n",
       "      <td>1518349992</td>\n",
       "    </tr>\n",
       "    <tr>\n",
       "      <th>1</th>\n",
       "      <td>106343</td>\n",
       "      <td>5</td>\n",
       "      <td>4.5</td>\n",
       "      <td>1206238739</td>\n",
       "    </tr>\n",
       "    <tr>\n",
       "      <th>2</th>\n",
       "      <td>146790</td>\n",
       "      <td>5459</td>\n",
       "      <td>5.0</td>\n",
       "      <td>1076215539</td>\n",
       "    </tr>\n",
       "    <tr>\n",
       "      <th>3</th>\n",
       "      <td>106362</td>\n",
       "      <td>32296</td>\n",
       "      <td>2.0</td>\n",
       "      <td>1423042565</td>\n",
       "    </tr>\n",
       "    <tr>\n",
       "      <th>4</th>\n",
       "      <td>9041</td>\n",
       "      <td>366</td>\n",
       "      <td>3.0</td>\n",
       "      <td>833375837</td>\n",
       "    </tr>\n",
       "  </tbody>\n",
       "</table>\n",
       "</div>"
      ],
      "text/plain": [
       "   userId  movieId  rating   timestamp\n",
       "0    5163    57669     4.0  1518349992\n",
       "1  106343        5     4.5  1206238739\n",
       "2  146790     5459     5.0  1076215539\n",
       "3  106362    32296     2.0  1423042565\n",
       "4    9041      366     3.0   833375837"
      ]
     },
     "execution_count": 3,
     "metadata": {},
     "output_type": "execute_result"
    }
   ],
   "source": [
    "train_df.head()"
   ]
  },
  {
   "cell_type": "code",
   "execution_count": 4,
   "id": "1e558f0a",
   "metadata": {},
   "outputs": [
    {
     "data": {
      "text/html": [
       "<div>\n",
       "<style scoped>\n",
       "    .dataframe tbody tr th:only-of-type {\n",
       "        vertical-align: middle;\n",
       "    }\n",
       "\n",
       "    .dataframe tbody tr th {\n",
       "        vertical-align: top;\n",
       "    }\n",
       "\n",
       "    .dataframe thead th {\n",
       "        text-align: right;\n",
       "    }\n",
       "</style>\n",
       "<table border=\"1\" class=\"dataframe\">\n",
       "  <thead>\n",
       "    <tr style=\"text-align: right;\">\n",
       "      <th></th>\n",
       "      <th>userId</th>\n",
       "      <th>movieId</th>\n",
       "    </tr>\n",
       "  </thead>\n",
       "  <tbody>\n",
       "    <tr>\n",
       "      <th>0</th>\n",
       "      <td>1</td>\n",
       "      <td>2011</td>\n",
       "    </tr>\n",
       "    <tr>\n",
       "      <th>1</th>\n",
       "      <td>1</td>\n",
       "      <td>4144</td>\n",
       "    </tr>\n",
       "    <tr>\n",
       "      <th>2</th>\n",
       "      <td>1</td>\n",
       "      <td>5767</td>\n",
       "    </tr>\n",
       "    <tr>\n",
       "      <th>3</th>\n",
       "      <td>1</td>\n",
       "      <td>6711</td>\n",
       "    </tr>\n",
       "    <tr>\n",
       "      <th>4</th>\n",
       "      <td>1</td>\n",
       "      <td>7318</td>\n",
       "    </tr>\n",
       "  </tbody>\n",
       "</table>\n",
       "</div>"
      ],
      "text/plain": [
       "   userId  movieId\n",
       "0       1     2011\n",
       "1       1     4144\n",
       "2       1     5767\n",
       "3       1     6711\n",
       "4       1     7318"
      ]
     },
     "execution_count": 4,
     "metadata": {},
     "output_type": "execute_result"
    }
   ],
   "source": [
    "test_df.head()"
   ]
  },
  {
   "cell_type": "code",
   "execution_count": 7,
   "id": "ed078cec",
   "metadata": {},
   "outputs": [
    {
     "name": "stdout",
     "output_type": "stream",
     "text": [
      "userId       0\n",
      "movieId      0\n",
      "rating       0\n",
      "timestamp    0\n",
      "dtype: int64\n",
      "(10000038, 4)\n"
     ]
    }
   ],
   "source": [
    "print(train_df.isnull().sum())\n",
    "print(train_df.shape)"
   ]
  },
  {
   "cell_type": "code",
   "execution_count": 8,
   "id": "cbd9030c",
   "metadata": {},
   "outputs": [
    {
     "data": {
      "text/html": [
       "<div>\n",
       "<style scoped>\n",
       "    .dataframe tbody tr th:only-of-type {\n",
       "        vertical-align: middle;\n",
       "    }\n",
       "\n",
       "    .dataframe tbody tr th {\n",
       "        vertical-align: top;\n",
       "    }\n",
       "\n",
       "    .dataframe thead th {\n",
       "        text-align: right;\n",
       "    }\n",
       "</style>\n",
       "<table border=\"1\" class=\"dataframe\">\n",
       "  <thead>\n",
       "    <tr style=\"text-align: right;\">\n",
       "      <th></th>\n",
       "      <th>movieId</th>\n",
       "      <th>title</th>\n",
       "      <th>genres</th>\n",
       "    </tr>\n",
       "  </thead>\n",
       "  <tbody>\n",
       "    <tr>\n",
       "      <th>0</th>\n",
       "      <td>1</td>\n",
       "      <td>Toy Story (1995)</td>\n",
       "      <td>Adventure|Animation|Children|Comedy|Fantasy</td>\n",
       "    </tr>\n",
       "    <tr>\n",
       "      <th>1</th>\n",
       "      <td>2</td>\n",
       "      <td>Jumanji (1995)</td>\n",
       "      <td>Adventure|Children|Fantasy</td>\n",
       "    </tr>\n",
       "    <tr>\n",
       "      <th>2</th>\n",
       "      <td>3</td>\n",
       "      <td>Grumpier Old Men (1995)</td>\n",
       "      <td>Comedy|Romance</td>\n",
       "    </tr>\n",
       "    <tr>\n",
       "      <th>3</th>\n",
       "      <td>4</td>\n",
       "      <td>Waiting to Exhale (1995)</td>\n",
       "      <td>Comedy|Drama|Romance</td>\n",
       "    </tr>\n",
       "    <tr>\n",
       "      <th>4</th>\n",
       "      <td>5</td>\n",
       "      <td>Father of the Bride Part II (1995)</td>\n",
       "      <td>Comedy</td>\n",
       "    </tr>\n",
       "  </tbody>\n",
       "</table>\n",
       "</div>"
      ],
      "text/plain": [
       "   movieId                               title  \\\n",
       "0        1                    Toy Story (1995)   \n",
       "1        2                      Jumanji (1995)   \n",
       "2        3             Grumpier Old Men (1995)   \n",
       "3        4            Waiting to Exhale (1995)   \n",
       "4        5  Father of the Bride Part II (1995)   \n",
       "\n",
       "                                        genres  \n",
       "0  Adventure|Animation|Children|Comedy|Fantasy  \n",
       "1                   Adventure|Children|Fantasy  \n",
       "2                               Comedy|Romance  \n",
       "3                         Comedy|Drama|Romance  \n",
       "4                                       Comedy  "
      ]
     },
     "execution_count": 8,
     "metadata": {},
     "output_type": "execute_result"
    }
   ],
   "source": [
    "movies_df.head()"
   ]
  },
  {
   "cell_type": "code",
   "execution_count": 9,
   "id": "5300abf5",
   "metadata": {},
   "outputs": [
    {
     "name": "stdout",
     "output_type": "stream",
     "text": [
      "Number of duplicate rows = 98\n"
     ]
    }
   ],
   "source": [
    "movies_df.loc[movies_df[\"title\"].duplicated() == True]\n",
    "duplicates = movies_df.duplicated([\"title\"])\n",
    "print(\"Number of duplicate rows = \"+str(duplicates.sum()))"
   ]
  },
  {
   "cell_type": "code",
   "execution_count": 10,
   "id": "eb565399",
   "metadata": {},
   "outputs": [
    {
     "data": {
      "text/html": [
       "<div>\n",
       "<style scoped>\n",
       "    .dataframe tbody tr th:only-of-type {\n",
       "        vertical-align: middle;\n",
       "    }\n",
       "\n",
       "    .dataframe tbody tr th {\n",
       "        vertical-align: top;\n",
       "    }\n",
       "\n",
       "    .dataframe thead th {\n",
       "        text-align: right;\n",
       "    }\n",
       "</style>\n",
       "<table border=\"1\" class=\"dataframe\">\n",
       "  <thead>\n",
       "    <tr style=\"text-align: right;\">\n",
       "      <th></th>\n",
       "      <th>movieId</th>\n",
       "      <th>title</th>\n",
       "      <th>genres</th>\n",
       "    </tr>\n",
       "  </thead>\n",
       "  <tbody>\n",
       "    <tr>\n",
       "      <th>15881</th>\n",
       "      <td>83773</td>\n",
       "      <td>Away with Words (San tiao ren) (1999)</td>\n",
       "      <td>(no genres listed)</td>\n",
       "    </tr>\n",
       "    <tr>\n",
       "      <th>16060</th>\n",
       "      <td>84768</td>\n",
       "      <td>Glitterbug (1994)</td>\n",
       "      <td>(no genres listed)</td>\n",
       "    </tr>\n",
       "    <tr>\n",
       "      <th>16351</th>\n",
       "      <td>86493</td>\n",
       "      <td>Age of the Earth, The (A Idade da Terra) (1980)</td>\n",
       "      <td>(no genres listed)</td>\n",
       "    </tr>\n",
       "    <tr>\n",
       "      <th>16491</th>\n",
       "      <td>87061</td>\n",
       "      <td>Trails (Veredas) (1978)</td>\n",
       "      <td>(no genres listed)</td>\n",
       "    </tr>\n",
       "    <tr>\n",
       "      <th>17404</th>\n",
       "      <td>91246</td>\n",
       "      <td>Milky Way (Tejút) (2007)</td>\n",
       "      <td>(no genres listed)</td>\n",
       "    </tr>\n",
       "  </tbody>\n",
       "</table>\n",
       "</div>"
      ],
      "text/plain": [
       "       movieId                                            title  \\\n",
       "15881    83773            Away with Words (San tiao ren) (1999)   \n",
       "16060    84768                                Glitterbug (1994)   \n",
       "16351    86493  Age of the Earth, The (A Idade da Terra) (1980)   \n",
       "16491    87061                          Trails (Veredas) (1978)   \n",
       "17404    91246                         Milky Way (Tejút) (2007)   \n",
       "\n",
       "                   genres  \n",
       "15881  (no genres listed)  \n",
       "16060  (no genres listed)  \n",
       "16351  (no genres listed)  \n",
       "16491  (no genres listed)  \n",
       "17404  (no genres listed)  "
      ]
     },
     "execution_count": 10,
     "metadata": {},
     "output_type": "execute_result"
    }
   ],
   "source": [
    "# check movies with missing genres\n",
    "movies_df.loc[movies_df[\"genres\"] == \"(no genres listed)\"].head()"
   ]
  },
  {
   "cell_type": "code",
   "execution_count": 18,
   "id": "8e2d5a02",
   "metadata": {},
   "outputs": [
    {
     "data": {
      "text/plain": [
       "movieId    5062\n",
       "title      5062\n",
       "genres     5062\n",
       "dtype: int64"
      ]
     },
     "execution_count": 18,
     "metadata": {},
     "output_type": "execute_result"
    }
   ],
   "source": [
    "movies_df[movies_df[\"genres\"] == \"(no genres listed)\"].count()"
   ]
  },
  {
   "cell_type": "markdown",
   "id": "09f17e04",
   "metadata": {},
   "source": [
    "## data cleaning"
   ]
  },
  {
   "cell_type": "code",
   "execution_count": 19,
   "id": "ca18137b",
   "metadata": {},
   "outputs": [],
   "source": [
    "df = train_df.copy(deep=True)"
   ]
  },
  {
   "cell_type": "code",
   "execution_count": 20,
   "id": "c424d596",
   "metadata": {},
   "outputs": [],
   "source": [
    "#removing timestamp as it serves no purpose in determining user rating\n",
    "df = df.iloc[:, :-1]"
   ]
  },
  {
   "cell_type": "code",
   "execution_count": 56,
   "id": "5f6e18dc",
   "metadata": {},
   "outputs": [],
   "source": [
    "#checking duplicated movies\n",
    "duplicate = movies_df.loc[movies_df.duplicated('title')]"
   ]
  },
  {
   "cell_type": "code",
   "execution_count": 54,
   "id": "be6e215a",
   "metadata": {},
   "outputs": [
    {
     "data": {
      "text/html": [
       "<div>\n",
       "<style scoped>\n",
       "    .dataframe tbody tr th:only-of-type {\n",
       "        vertical-align: middle;\n",
       "    }\n",
       "\n",
       "    .dataframe tbody tr th {\n",
       "        vertical-align: top;\n",
       "    }\n",
       "\n",
       "    .dataframe thead th {\n",
       "        text-align: right;\n",
       "    }\n",
       "</style>\n",
       "<table border=\"1\" class=\"dataframe\">\n",
       "  <thead>\n",
       "    <tr style=\"text-align: right;\">\n",
       "      <th></th>\n",
       "      <th>movieId</th>\n",
       "      <th>title</th>\n",
       "      <th>genres</th>\n",
       "    </tr>\n",
       "  </thead>\n",
       "  <tbody>\n",
       "    <tr>\n",
       "      <th>9065</th>\n",
       "      <td>26982</td>\n",
       "      <td>Men with Guns (1997)</td>\n",
       "      <td>Drama</td>\n",
       "    </tr>\n",
       "    <tr>\n",
       "      <th>12909</th>\n",
       "      <td>64997</td>\n",
       "      <td>War of the Worlds (2005)</td>\n",
       "      <td>Action|Sci-Fi</td>\n",
       "    </tr>\n",
       "    <tr>\n",
       "      <th>12984</th>\n",
       "      <td>65665</td>\n",
       "      <td>Hamlet (2000)</td>\n",
       "      <td>Drama</td>\n",
       "    </tr>\n",
       "    <tr>\n",
       "      <th>13177</th>\n",
       "      <td>67459</td>\n",
       "      <td>Chaos (2005)</td>\n",
       "      <td>Crime|Drama|Horror</td>\n",
       "    </tr>\n",
       "    <tr>\n",
       "      <th>16120</th>\n",
       "      <td>85070</td>\n",
       "      <td>Blackout (2007)</td>\n",
       "      <td>Drama</td>\n",
       "    </tr>\n",
       "    <tr>\n",
       "      <th>...</th>\n",
       "      <td>...</td>\n",
       "      <td>...</td>\n",
       "      <td>...</td>\n",
       "    </tr>\n",
       "    <tr>\n",
       "      <th>61521</th>\n",
       "      <td>206117</td>\n",
       "      <td>The Lonely Island Presents: The Unauthorized B...</td>\n",
       "      <td>Comedy</td>\n",
       "    </tr>\n",
       "    <tr>\n",
       "      <th>61525</th>\n",
       "      <td>206125</td>\n",
       "      <td>Lost &amp; Found (2018)</td>\n",
       "      <td>Comedy|Drama</td>\n",
       "    </tr>\n",
       "    <tr>\n",
       "      <th>61697</th>\n",
       "      <td>206674</td>\n",
       "      <td>Camino (2016)</td>\n",
       "      <td>Comedy</td>\n",
       "    </tr>\n",
       "    <tr>\n",
       "      <th>61800</th>\n",
       "      <td>206925</td>\n",
       "      <td>The Plague (2006)</td>\n",
       "      <td>Documentary</td>\n",
       "    </tr>\n",
       "    <tr>\n",
       "      <th>61913</th>\n",
       "      <td>207249</td>\n",
       "      <td>American Woman (2019)</td>\n",
       "      <td>Drama</td>\n",
       "    </tr>\n",
       "  </tbody>\n",
       "</table>\n",
       "<p>98 rows × 3 columns</p>\n",
       "</div>"
      ],
      "text/plain": [
       "       movieId                                              title  \\\n",
       "9065     26982                               Men with Guns (1997)   \n",
       "12909    64997                           War of the Worlds (2005)   \n",
       "12984    65665                                      Hamlet (2000)   \n",
       "13177    67459                                       Chaos (2005)   \n",
       "16120    85070                                    Blackout (2007)   \n",
       "...        ...                                                ...   \n",
       "61521   206117  The Lonely Island Presents: The Unauthorized B...   \n",
       "61525   206125                                Lost & Found (2018)   \n",
       "61697   206674                                      Camino (2016)   \n",
       "61800   206925                                  The Plague (2006)   \n",
       "61913   207249                              American Woman (2019)   \n",
       "\n",
       "                   genres  \n",
       "9065                Drama  \n",
       "12909       Action|Sci-Fi  \n",
       "12984               Drama  \n",
       "13177  Crime|Drama|Horror  \n",
       "16120               Drama  \n",
       "...                   ...  \n",
       "61521              Comedy  \n",
       "61525        Comedy|Drama  \n",
       "61697              Comedy  \n",
       "61800         Documentary  \n",
       "61913               Drama  \n",
       "\n",
       "[98 rows x 3 columns]"
      ]
     },
     "execution_count": 54,
     "metadata": {},
     "output_type": "execute_result"
    }
   ],
   "source": [
    "duplicate"
   ]
  },
  {
   "cell_type": "code",
   "execution_count": 60,
   "id": "7efa3dc8",
   "metadata": {},
   "outputs": [
    {
     "data": {
      "text/html": [
       "<div>\n",
       "<style scoped>\n",
       "    .dataframe tbody tr th:only-of-type {\n",
       "        vertical-align: middle;\n",
       "    }\n",
       "\n",
       "    .dataframe tbody tr th {\n",
       "        vertical-align: top;\n",
       "    }\n",
       "\n",
       "    .dataframe thead th {\n",
       "        text-align: right;\n",
       "    }\n",
       "</style>\n",
       "<table border=\"1\" class=\"dataframe\">\n",
       "  <thead>\n",
       "    <tr style=\"text-align: right;\">\n",
       "      <th></th>\n",
       "      <th>movieId</th>\n",
       "      <th>title</th>\n",
       "      <th>genres</th>\n",
       "    </tr>\n",
       "  </thead>\n",
       "  <tbody>\n",
       "    <tr>\n",
       "      <th>1710</th>\n",
       "      <td>1788</td>\n",
       "      <td>Men with Guns (1997)</td>\n",
       "      <td>Action|Drama</td>\n",
       "    </tr>\n",
       "    <tr>\n",
       "      <th>9065</th>\n",
       "      <td>26982</td>\n",
       "      <td>Men with Guns (1997)</td>\n",
       "      <td>Drama</td>\n",
       "    </tr>\n",
       "  </tbody>\n",
       "</table>\n",
       "</div>"
      ],
      "text/plain": [
       "      movieId                 title        genres\n",
       "1710     1788  Men with Guns (1997)  Action|Drama\n",
       "9065    26982  Men with Guns (1997)         Drama"
      ]
     },
     "execution_count": 60,
     "metadata": {},
     "output_type": "execute_result"
    }
   ],
   "source": [
    "# Random check differences between first & second occurence of title in movies\n",
    "movies_df.loc[movies_df[\"title\"] == \"Men with Guns (1997)\"]"
   ]
  },
  {
   "cell_type": "code",
   "execution_count": 61,
   "id": "7062cf4b",
   "metadata": {},
   "outputs": [
    {
     "data": {
      "text/html": [
       "<div>\n",
       "<style scoped>\n",
       "    .dataframe tbody tr th:only-of-type {\n",
       "        vertical-align: middle;\n",
       "    }\n",
       "\n",
       "    .dataframe tbody tr th {\n",
       "        vertical-align: top;\n",
       "    }\n",
       "\n",
       "    .dataframe thead th {\n",
       "        text-align: right;\n",
       "    }\n",
       "</style>\n",
       "<table border=\"1\" class=\"dataframe\">\n",
       "  <thead>\n",
       "    <tr style=\"text-align: right;\">\n",
       "      <th></th>\n",
       "      <th>movieId</th>\n",
       "      <th>title</th>\n",
       "      <th>genres</th>\n",
       "    </tr>\n",
       "  </thead>\n",
       "  <tbody>\n",
       "    <tr>\n",
       "      <th>10055</th>\n",
       "      <td>34048</td>\n",
       "      <td>War of the Worlds (2005)</td>\n",
       "      <td>Action|Adventure|Sci-Fi|Thriller</td>\n",
       "    </tr>\n",
       "    <tr>\n",
       "      <th>12909</th>\n",
       "      <td>64997</td>\n",
       "      <td>War of the Worlds (2005)</td>\n",
       "      <td>Action|Sci-Fi</td>\n",
       "    </tr>\n",
       "  </tbody>\n",
       "</table>\n",
       "</div>"
      ],
      "text/plain": [
       "       movieId                     title                            genres\n",
       "10055    34048  War of the Worlds (2005)  Action|Adventure|Sci-Fi|Thriller\n",
       "12909    64997  War of the Worlds (2005)                     Action|Sci-Fi"
      ]
     },
     "execution_count": 61,
     "metadata": {},
     "output_type": "execute_result"
    }
   ],
   "source": [
    "movies_df.loc[movies_df[\"title\"] == \"War of the Worlds (2005)\"]"
   ]
  },
  {
   "cell_type": "code",
   "execution_count": 62,
   "id": "fc65d79a",
   "metadata": {},
   "outputs": [],
   "source": [
    "# Dropping duplicated movie titles.\n",
    "# Dropping the second occurences of duplicated movies\n",
    "# as the first occurences have more than 1 genre\n",
    "movies_df = movies_df.drop(\n",
    "    movies_df.loc[movies_df[\"title\"].duplicated(keep='first') == True].index)\n"
   ]
  },
  {
   "cell_type": "code",
   "execution_count": 63,
   "id": "8b2b8a37",
   "metadata": {},
   "outputs": [
    {
     "data": {
      "text/plain": [
       "movieId    0\n",
       "title      0\n",
       "genres     0\n",
       "dtype: int64"
      ]
     },
     "execution_count": 63,
     "metadata": {},
     "output_type": "execute_result"
    }
   ],
   "source": [
    "#checking if duplicates where removed\n",
    "movies_df.loc[movies_df[\"title\"].duplicated(keep='first') == True].count()"
   ]
  },
  {
   "cell_type": "code",
   "execution_count": 64,
   "id": "75479a3d",
   "metadata": {},
   "outputs": [
    {
     "data": {
      "text/html": [
       "<div>\n",
       "<style scoped>\n",
       "    .dataframe tbody tr th:only-of-type {\n",
       "        vertical-align: middle;\n",
       "    }\n",
       "\n",
       "    .dataframe tbody tr th {\n",
       "        vertical-align: top;\n",
       "    }\n",
       "\n",
       "    .dataframe thead th {\n",
       "        text-align: right;\n",
       "    }\n",
       "</style>\n",
       "<table border=\"1\" class=\"dataframe\">\n",
       "  <thead>\n",
       "    <tr style=\"text-align: right;\">\n",
       "      <th></th>\n",
       "      <th>movieId</th>\n",
       "      <th>title</th>\n",
       "      <th>genres</th>\n",
       "    </tr>\n",
       "  </thead>\n",
       "  <tbody>\n",
       "    <tr>\n",
       "      <th>0</th>\n",
       "      <td>1</td>\n",
       "      <td>Toy Story (1995)</td>\n",
       "      <td>Adventure Animation Children Comedy Fantasy</td>\n",
       "    </tr>\n",
       "    <tr>\n",
       "      <th>1</th>\n",
       "      <td>2</td>\n",
       "      <td>Jumanji (1995)</td>\n",
       "      <td>Adventure Children Fantasy</td>\n",
       "    </tr>\n",
       "    <tr>\n",
       "      <th>2</th>\n",
       "      <td>3</td>\n",
       "      <td>Grumpier Old Men (1995)</td>\n",
       "      <td>Comedy Romance</td>\n",
       "    </tr>\n",
       "    <tr>\n",
       "      <th>3</th>\n",
       "      <td>4</td>\n",
       "      <td>Waiting to Exhale (1995)</td>\n",
       "      <td>Comedy Drama Romance</td>\n",
       "    </tr>\n",
       "    <tr>\n",
       "      <th>4</th>\n",
       "      <td>5</td>\n",
       "      <td>Father of the Bride Part II (1995)</td>\n",
       "      <td>Comedy</td>\n",
       "    </tr>\n",
       "  </tbody>\n",
       "</table>\n",
       "</div>"
      ],
      "text/plain": [
       "   movieId                               title  \\\n",
       "0        1                    Toy Story (1995)   \n",
       "1        2                      Jumanji (1995)   \n",
       "2        3             Grumpier Old Men (1995)   \n",
       "3        4            Waiting to Exhale (1995)   \n",
       "4        5  Father of the Bride Part II (1995)   \n",
       "\n",
       "                                        genres  \n",
       "0  Adventure Animation Children Comedy Fantasy  \n",
       "1                   Adventure Children Fantasy  \n",
       "2                               Comedy Romance  \n",
       "3                         Comedy Drama Romance  \n",
       "4                                       Comedy  "
      ]
     },
     "execution_count": 64,
     "metadata": {},
     "output_type": "execute_result"
    }
   ],
   "source": [
    "# remove the separator between genres\n",
    "movies_df[\"genres\"] = movies_df[\"genres\"].str.replace(\"|\", \" \", regex=False)\n",
    "# Check movies_df\n",
    "movies_df.head(3)"
   ]
  },
  {
   "cell_type": "markdown",
   "id": "df29c477",
   "metadata": {},
   "source": [
    "## merging datasets"
   ]
  },
  {
   "cell_type": "code",
   "execution_count": 100,
   "id": "83375a72",
   "metadata": {},
   "outputs": [],
   "source": [
    "# Merge dataframes on common column\n",
    "df_movie_info = pd.merge(train_df,movies_df,on = \"movieId\")"
   ]
  },
  {
   "cell_type": "code",
   "execution_count": 67,
   "id": "428f0ca6",
   "metadata": {},
   "outputs": [
    {
     "data": {
      "text/html": [
       "<div>\n",
       "<style scoped>\n",
       "    .dataframe tbody tr th:only-of-type {\n",
       "        vertical-align: middle;\n",
       "    }\n",
       "\n",
       "    .dataframe tbody tr th {\n",
       "        vertical-align: top;\n",
       "    }\n",
       "\n",
       "    .dataframe thead th {\n",
       "        text-align: right;\n",
       "    }\n",
       "</style>\n",
       "<table border=\"1\" class=\"dataframe\">\n",
       "  <thead>\n",
       "    <tr style=\"text-align: right;\">\n",
       "      <th></th>\n",
       "      <th>movieId</th>\n",
       "      <th>title</th>\n",
       "      <th>genres</th>\n",
       "      <th>runtime</th>\n",
       "      <th>budget</th>\n",
       "      <th>year</th>\n",
       "    </tr>\n",
       "  </thead>\n",
       "  <tbody>\n",
       "    <tr>\n",
       "      <th>0</th>\n",
       "      <td>1</td>\n",
       "      <td>Toy Story (1995)</td>\n",
       "      <td>Adventure Animation Children Comedy Fantasy</td>\n",
       "      <td>81.0</td>\n",
       "      <td>30000000.0</td>\n",
       "      <td>1995.0</td>\n",
       "    </tr>\n",
       "    <tr>\n",
       "      <th>1</th>\n",
       "      <td>2</td>\n",
       "      <td>Jumanji (1995)</td>\n",
       "      <td>Adventure Children Fantasy</td>\n",
       "      <td>104.0</td>\n",
       "      <td>65000000.0</td>\n",
       "      <td>1995.0</td>\n",
       "    </tr>\n",
       "    <tr>\n",
       "      <th>2</th>\n",
       "      <td>3</td>\n",
       "      <td>Grumpier Old Men (1995)</td>\n",
       "      <td>Comedy Romance</td>\n",
       "      <td>101.0</td>\n",
       "      <td>25000000.0</td>\n",
       "      <td>1995.0</td>\n",
       "    </tr>\n",
       "    <tr>\n",
       "      <th>3</th>\n",
       "      <td>4</td>\n",
       "      <td>Waiting to Exhale (1995)</td>\n",
       "      <td>Comedy Drama Romance</td>\n",
       "      <td>124.0</td>\n",
       "      <td>16000000.0</td>\n",
       "      <td>1995.0</td>\n",
       "    </tr>\n",
       "    <tr>\n",
       "      <th>4</th>\n",
       "      <td>5</td>\n",
       "      <td>Father of the Bride Part II (1995)</td>\n",
       "      <td>Comedy</td>\n",
       "      <td>106.0</td>\n",
       "      <td>30000000.0</td>\n",
       "      <td>1995.0</td>\n",
       "    </tr>\n",
       "  </tbody>\n",
       "</table>\n",
       "</div>"
      ],
      "text/plain": [
       "   movieId                               title  \\\n",
       "0        1                    Toy Story (1995)   \n",
       "1        2                      Jumanji (1995)   \n",
       "2        3             Grumpier Old Men (1995)   \n",
       "3        4            Waiting to Exhale (1995)   \n",
       "4        5  Father of the Bride Part II (1995)   \n",
       "\n",
       "                                        genres  runtime      budget    year  \n",
       "0  Adventure Animation Children Comedy Fantasy     81.0  30000000.0  1995.0  \n",
       "1                   Adventure Children Fantasy    104.0  65000000.0  1995.0  \n",
       "2                               Comedy Romance    101.0  25000000.0  1995.0  \n",
       "3                         Comedy Drama Romance    124.0  16000000.0  1995.0  \n",
       "4                                       Comedy    106.0  30000000.0  1995.0  "
      ]
     },
     "execution_count": 67,
     "metadata": {},
     "output_type": "execute_result"
    }
   ],
   "source": [
    "# merge movies_df and imdb_df on a common column ,i.e \"movieId\"\n",
    "movies_merge = pd.merge(\n",
    "    movies_df, imdb_data[['runtime', \"movieId\", 'budget', ]], on=\"movieId\")\n",
    "movies_merge['year'] = movies_merge['title'].str.split().str[-1]\n",
    "movies_merge[\"year\"] = movies_merge[\"year\"].str.replace(\"(\", \"\", regex=False)\n",
    "movies_merge[\"year\"] = movies_merge[\"year\"].str.replace(\")\", \"\", regex=False)\n",
    "movies_merge = movies_merge[~movies_merge['year'].str.contains(\n",
    "    '[A-z]', na=False)]\n",
    "movies_merge = movies_merge[~movies_merge['year'].str.contains(\n",
    "    '[a-z]', na=False)]\n",
    "movies_merge[\"year\"] = movies_merge[\"year\"].astype(float)\n",
    "movies_merge1 = movies_merge.copy()\n",
    "movies_merge = movies_merge.dropna()\n",
    "movies_merge = movies_merge[movies_merge['budget'].str.startswith('$')]\n",
    "movies_merge[\"budget\"] = movies_merge[\"budget\"].str.replace(\n",
    "    \"$\", \"\", regex=False)\n",
    "movies_merge[\"budget\"] = movies_merge[\"budget\"].str.replace(\n",
    "    \",\", \"\", regex=False)\n",
    "movies_merge[\"budget\"] = movies_merge[\"budget\"].astype(float)\n",
    "movies_merge.head()"
   ]
  },
  {
   "cell_type": "markdown",
   "id": "8edf1d8a",
   "metadata": {},
   "source": [
    "## EXPLORATORY DATA  ANALYSIS"
   ]
  },
  {
   "cell_type": "code",
   "execution_count": 68,
   "id": "7d26f748",
   "metadata": {},
   "outputs": [
    {
     "name": "stdout",
     "output_type": "stream",
     "text": [
      "Summary of df:\n",
      "Number of unique movies = 48213\n",
      "Number of unique users = 162541\n",
      "Total number of movie ratings = 10000038\n"
     ]
    }
   ],
   "source": [
    "print(\"Summary of df:\")\n",
    "print(\"Number of unique movies = \" + str(len(np.unique(df[\"movieId\"]))))\n",
    "print(\"Number of unique users = \" + str(len(np.unique(df[\"userId\"]))))\n",
    "print(\"Total number of movie ratings = \" + str(df.shape[0]))"
   ]
  },
  {
   "cell_type": "markdown",
   "id": "9bb8fb24",
   "metadata": {},
   "source": [
    "### ratings analysis"
   ]
  },
  {
   "cell_type": "code",
   "execution_count": 70,
   "id": "dddc9f3e",
   "metadata": {},
   "outputs": [
    {
     "data": {
      "text/plain": [
       "userId\n",
       "72315     12934\n",
       "80974      3679\n",
       "137293     3586\n",
       "33844      3207\n",
       "20055      3050\n",
       "109731     2670\n",
       "49403      2667\n",
       "92046      2578\n",
       "110971     2287\n",
       "30879      2283\n",
       "Name: rating, dtype: int64"
      ]
     },
     "execution_count": 70,
     "metadata": {},
     "output_type": "execute_result"
    }
   ],
   "source": [
    "# 10 users with the most ratings\n",
    "no_of_rated_movies_per_user = df_movie_info.copy(deep=True)\n",
    "no_of_rated_movies_per_user[\n",
    "    'user_ratings'] = no_of_rated_movies_per_user.groupby(\n",
    "        by=\"userId\")[\"rating\"].count().sort_values(ascending=False)\n",
    "no_of_rated_movies_per_user.groupby(\n",
    "    by=\"userId\")[\"rating\"].count().sort_values(ascending=False)[:10]"
   ]
  },
  {
   "cell_type": "code",
   "execution_count": 72,
   "id": "063a533a",
   "metadata": {},
   "outputs": [
    {
     "name": "stdout",
     "output_type": "stream",
     "text": [
      "Summary of user ratings: \n",
      "Highest number of ratings by single user in database = 12934\n",
      "Lowest number of ratings by single user in database = 1\n"
     ]
    }
   ],
   "source": [
    "# Highest number of ratings by single user in database\n",
    "# Lowest number of ratings by single user in database\n",
    "print(\"Summary of user ratings: \")\n",
    "print(\"Highest number of ratings by single user in database = \" + str(\n",
    "    max(no_of_rated_movies_per_user.groupby(\n",
    "        by=\"userId\")[\"rating\"].count().sort_values(ascending=False))))\n",
    "\n",
    "print(\"Lowest number of ratings by single user in database = \" + str(\n",
    "    min(no_of_rated_movies_per_user.groupby(\n",
    "        by=\"userId\")[\"rating\"].count().sort_values(ascending=False))))\n"
   ]
  },
  {
   "cell_type": "code",
   "execution_count": 73,
   "id": "1730a3e7",
   "metadata": {},
   "outputs": [
    {
     "data": {
      "text/plain": [
       "title\n",
       "Detective Conan: The Raven Chaser (2009)    5.0\n",
       "Rockabilly Zombie Weekend (2013)            5.0\n",
       "Sweaty Betty (2015)                         5.0\n",
       "Robert Williams Mr. Bitchin' (2013)         5.0\n",
       "Day the Universe Changed, The (1985)        5.0\n",
       "Name: rating, dtype: float64"
      ]
     },
     "execution_count": 73,
     "metadata": {},
     "output_type": "execute_result"
    }
   ],
   "source": [
    "#most rated movies\n",
    "ratings_per_movie = df_movie_info.groupby(\n",
    "    by=\"title\")[\"rating\"].mean().sort_values(ascending=True)\n",
    "ratings_per_movie.tail()\n",
    "\n",
    "## does not show true reflection, elaboration to be completed"
   ]
  },
  {
   "cell_type": "code",
   "execution_count": 99,
   "id": "fc7186a4",
   "metadata": {},
   "outputs": [
    {
     "data": {
      "text/plain": [
       "title\n",
       "Shawshank Redemption, The (1994)             32831\n",
       "Forrest Gump (1994)                          32383\n",
       "Pulp Fiction (1994)                          31697\n",
       "Silence of the Lambs, The (1991)             29444\n",
       "Matrix, The (1999)                           29014\n",
       "Star Wars: Episode IV - A New Hope (1977)    27560\n",
       "Jurassic Park (1993)                         25518\n",
       "Schindler's List (1993)                      24004\n",
       "Braveheart (1995)                            23722\n",
       "Fight Club (1999)                            23536\n",
       "Name: rating, dtype: int64"
      ]
     },
     "execution_count": 99,
     "metadata": {},
     "output_type": "execute_result"
    }
   ],
   "source": [
    "# movies with the most ratings\n",
    "df_movie_info.groupby('title')['rating'].count().sort_values(\n",
    "    ascending=False)[:10]"
   ]
  },
  {
   "cell_type": "code",
   "execution_count": 77,
   "id": "705527d6",
   "metadata": {},
   "outputs": [],
   "source": [
    "#plt.figure(figsize=(12, 7))\n",
    "#df_movie_info['rating'].value_counts().plot(kind='bar',\n",
    "                                            #title='Distribution of the ratings')\n",
    "#plt.ylabel('count')\n",
    "#plt.xlabel('rating')\n",
    "#plt.rcParams['patch.force_edgecolor'] = True\n",
    "#experiment.log_figure(figure=plt, figure_name='Ratings per Movie')\n",
    "#plt.show()"
   ]
  },
  {
   "cell_type": "markdown",
   "id": "0533eb81",
   "metadata": {},
   "source": [
    "### genres analysis"
   ]
  },
  {
   "cell_type": "code",
   "execution_count": 105,
   "id": "6667fd7e",
   "metadata": {},
   "outputs": [
    {
     "name": "stdout",
     "output_type": "stream",
     "text": [
      "The number are 20 unique movie genres in the dataframe\n"
     ]
    }
   ],
   "source": [
    "# Create new dataframe to see the genres\n",
    "genres = movies_df['genres'].str.replace(\"|\", \" \", regex=False)\n",
    "genres = genres.str.replace(\"(no genres listed)\", \"Not_listed\", regex=False)\n",
    "genres_string = ' '.join(genres)\n",
    "all_genres = genres_string.split()\n",
    "\n",
    "\n",
    "# function to get unique genres ,to avoid repetation in dataframe\n",
    "def unique_genres(genre_list):\n",
    "    \"\"\"The function inputs the genres of the movies and outputs all the unique genres \n",
    "    \"\"\"\n",
    "    # insert the list to the set\n",
    "    list_set = set(genre_list)\n",
    "    # convert the set to the list\n",
    "    unique_list = (list(genre_list))\n",
    "    return unique_list\n",
    "\n",
    "all_genres = unique_genres(all_genres)\n",
    "print(\"The number are \" + str(\n",
    "    len(set(all_genres))) + \" unique movie genres in the dataframe\")\n"
   ]
  },
  {
   "cell_type": "code",
   "execution_count": null,
   "id": "8a782115",
   "metadata": {},
   "outputs": [],
   "source": []
  },
  {
   "cell_type": "code",
   "execution_count": null,
   "id": "e755e27d",
   "metadata": {},
   "outputs": [],
   "source": []
  },
  {
   "cell_type": "code",
   "execution_count": null,
   "id": "019be8a5",
   "metadata": {},
   "outputs": [],
   "source": []
  },
  {
   "cell_type": "code",
   "execution_count": null,
   "id": "69f35d9f",
   "metadata": {},
   "outputs": [],
   "source": []
  },
  {
   "cell_type": "code",
   "execution_count": null,
   "id": "550b9ca8",
   "metadata": {},
   "outputs": [],
   "source": [
    "# Plot Movie count per Genre\n",
    "plt.figure(figsize=(10,10))\n",
    "plt.bar(height = genre_dict.values(), x = genre_dict.keys())\n",
    "plt.xticks(rotation=90)\n",
    "plt.show()"
   ]
  }
 ],
 "metadata": {
  "kernelspec": {
   "display_name": "Python 3",
   "language": "python",
   "name": "python3"
  },
  "language_info": {
   "codemirror_mode": {
    "name": "ipython",
    "version": 3
   },
   "file_extension": ".py",
   "mimetype": "text/x-python",
   "name": "python",
   "nbconvert_exporter": "python",
   "pygments_lexer": "ipython3",
   "version": "3.8.8"
  }
 },
 "nbformat": 4,
 "nbformat_minor": 5
}
