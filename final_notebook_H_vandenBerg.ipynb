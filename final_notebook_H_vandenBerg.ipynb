{
 "cells": [
  {
   "cell_type": "markdown",
   "id": "0c661f4a",
   "metadata": {},
   "source": [
    "# Project: Movie Recommender\n",
    "\n"
   ]
  },
  {
   "cell_type": "markdown",
   "id": "8c5601ba",
   "metadata": {},
   "source": [
    "## Team Members\n",
    "\n",
    "Hendrik van den Berg\n",
    "\n",
    "Neo Ntsako Mashele\n",
    " \n",
    "Tracy Zanele Lushaba\n",
    " \n",
    "Lwazi Cele\n",
    " \n",
    "Botseetsa Loveness Nkadimeng\n",
    " \n",
    "Collen Bothma"
   ]
  },
  {
   "cell_type": "markdown",
   "id": "d07dc44d",
   "metadata": {},
   "source": [
    "<a id= \"cont\"></a>\n",
    "## Table of Contents\n",
    "\n",
    "<a href=#one>1. Introduction</a>\n",
    "\n",
    "<a href=#two>2. Problem Statment</a>\n",
    "\n",
    "<a href=#three>3. Import Python Modules</a>\n",
    "\n",
    "<a href=#four>4. Reading the Data</a>\n",
    "\n",
    "<a href=#five>5. Exploratory Data Analysis</a>\n",
    "\n",
    "<a href=#six>6. Data Visualization</a>\n",
    "\n",
    "<a href=#seven>7. Data Preprocessing</a>\n",
    "\n",
    "<a href=#sevenone>7.1 Preprocessing: ratings dataset</a>\n",
    "\n",
    "<a href=#seventwo>7.2 Preprocessing: movies dataset</a>\n",
    "\n",
    "<a href=#eight>8. Model Builing</a>\n",
    "\n",
    "<a href=#nine>9. Model Evaluation</a>\n",
    "\n",
    "<a href=#ten>10. Kaggle submition</a>\n",
    "\n",
    "<a href=#eleven>11. Recomender systems</a>\n",
    "\n",
    "<a href= #elevenone>11.1 Content Based Filtering</a>\n",
    "\n",
    "<a href= #eleventwo>11.2 Collaborative Filtering</a>\n",
    "\n",
    "<a href=#twelve>12. Conclusion</a>"
   ]
  },
  {
   "cell_type": "markdown",
   "id": "7dbdeed3",
   "metadata": {},
   "source": [
    "<a id= \"one\"></a>\n",
    "## 1. Introduction\n",
    "<a href= #cont>Back to table of contents</a>\n",
    "\n",
    "Introduction to the project\n"
   ]
  },
  {
   "cell_type": "markdown",
   "id": "4d331cc8",
   "metadata": {},
   "source": [
    "<a id= \"two\"></a>\n",
    "# 2. Problem Statment\n",
    "<a href= #cont>Back to table of contents</a>\n",
    "\n",
    "Problrm to be solved"
   ]
  },
  {
   "cell_type": "markdown",
   "id": "acbbbc64",
   "metadata": {},
   "source": [
    "### Start Comet.ml Experiment.\n",
    "This is to ensure version control for the machine learning models.\n"
   ]
  },
  {
   "cell_type": "code",
   "execution_count": 1,
   "id": "6b8b7d1f",
   "metadata": {},
   "outputs": [
    {
     "name": "stderr",
     "output_type": "stream",
     "text": [
      "COMET WARNING: As you are running in a Jupyter environment, you will need to call `experiment.end()` when finished to ensure all metrics and code are logged before exiting.\n",
      "COMET INFO: Experiment is live on comet.ml https://www.comet.ml/henre7860/general/ec6c1e89602d49f8915a18ec70b7981c\n",
      "\n"
     ]
    }
   ],
   "source": [
    "# Import comet_ml at the top of your file\n",
    "from comet_ml import Experiment\n",
    "\n",
    "# Create an experiment with your api key\n",
    "experiment = Experiment(\n",
    "    api_key=\"yeeIKreBkd61jeuRdNjFOeSFr\",\n",
    "    project_name=\"general\",\n",
    "    workspace=\"henre7860\",\n",
    ")"
   ]
  },
  {
   "cell_type": "markdown",
   "id": "cca7148b",
   "metadata": {},
   "source": [
    "<a id= \"three\"></a>\n",
    "## 3. Import Python Libraries\n",
    "<a href= #cont>Back to table of contents</a>\n",
    "\n",
    "In order to effectively manipulate the data we need the right tools for the job. Below we will import the necessary libraries that we will be using to be able to manipulate and visualize the data and to build machine learning models as well."
   ]
  },
  {
   "cell_type": "code",
   "execution_count": 1,
   "id": "8d4fbee7",
   "metadata": {},
   "outputs": [],
   "source": [
    "# Import packages\n",
    "\n",
    "# Data analysis libraries\n",
    "import pandas as pd\n",
    "import numpy as np\n",
    "\n",
    "# Visualization libraries\n",
    "import matplotlib.pyplot as plt\n",
    "import seaborn as sns\n",
    "%matplotlib inline\n",
    "\n",
    "\n",
    "# Libraries to create models\n",
    "from sklearn.model_selection import train_test_split\n",
    "from sklearn.ensemble import RandomForestRegressor\n",
    "from xgboost import XGBRegressor\n",
    "from sklearn.linear_model import LinearRegression, Lasso, LassoCV\n",
    "from sklearn.metrics import mean_squared_error\n",
    "from sklearn.feature_extraction.text import CountVectorizer\n",
    "from sklearn.metrics.pairwise import cosine_similarity\n",
    "from sklearn.preprocessing import LabelEncoder\n",
    "from surprise import Reader, Dataset, SVD, accuracy\n",
    "from surprise.model_selection import train_test_split\n",
    "from sklearn.metrics.pairwise import cosine_similarity\n",
    "\n",
    "# Save trained models\n",
    "import pickle\n",
    "\n",
    "\n",
    "import warnings\n",
    "warnings.filterwarnings('ignore')"
   ]
  },
  {
   "cell_type": "markdown",
   "id": "93da6662",
   "metadata": {},
   "source": [
    "<a id= \"four\"></a>\n",
    "## 4. Reading the Data\n",
    "<a href= #cont>Back to table of contents</a>\n",
    "\n",
    "Below we will import the necessary datasets to be able to complete the project by using pd.read_csv(). To be able to store this project on GitHub the original “train.csv: file was split into four subsets (“ratings_1.csv”, “ratings_2.csv”, “ratings_3.csv”, “ratings_4.csv”), so that the file size fulfills the requirement to upload files to GitHub. These four datasets are then combined to form the complete daset again simply called “ratings”. The “movies.csv” dataset is also uploaded for additional information.\n"
   ]
  },
  {
   "cell_type": "code",
   "execution_count": 3,
   "id": "fcd4ebe2",
   "metadata": {},
   "outputs": [],
   "source": [
    "# Import Datasets\n",
    "# train.csv was split into four smaller csv files in order to be uploaded to GitHub\n",
    "ratings_1 = pd.read_csv('data/ratings_1.csv')\n",
    "ratings_2 = pd.read_csv('data/ratings_2.csv')\n",
    "ratings_3 = pd.read_csv('data/ratings_3.csv')\n",
    "ratings_4 = pd.read_csv('data/ratings_4.csv')\n",
    "\n",
    "# Add ratings together to form complete dataset\n",
    "\n",
    "ratings= ratings_1.append(ratings_2).append(ratings_3).append(ratings_4)\n",
    "\n",
    "movies = pd.read_csv(\"data/movies.csv\")\n",
    "\n",
    "\n",
    "# Diplay whole column.\n",
    "#pd.set_option('display.max_column', None)   # Diplay whole column.\n",
    "#pd.set_option('display.max_row', None)"
   ]
  },
  {
   "cell_type": "markdown",
   "id": "08c466d4",
   "metadata": {},
   "source": [
    "<a id= \"five\"></a>\n",
    "## 5. Exploratory Data Analysis\n",
    "<a href= #cont>Back to table of contents</a>\n",
    "\n",
    "Exploratory data analysis (EDA) is used by data scientists to analyze datasets and to find the main characteristics of the data to better identify the quality of the data. By doing EDA it may help us to manipulate the data to find the best answer to a proposed question.\n",
    "\n",
    "Important features to find:\n",
    "\n",
    "- Samples of the datasets\n",
    "- Shape of the datasets\n",
    "- Columns/features\n",
    "- Information of the datasets\n",
    "- Check for null values\n",
    "- Unique values\n"
   ]
  },
  {
   "cell_type": "markdown",
   "id": "de47fce2",
   "metadata": {},
   "source": [
    "#### Top 5 Records of the Data\n"
   ]
  },
  {
   "cell_type": "code",
   "execution_count": 4,
   "id": "8ac8fc88",
   "metadata": {},
   "outputs": [
    {
     "data": {
      "text/html": [
       "<div>\n",
       "<style scoped>\n",
       "    .dataframe tbody tr th:only-of-type {\n",
       "        vertical-align: middle;\n",
       "    }\n",
       "\n",
       "    .dataframe tbody tr th {\n",
       "        vertical-align: top;\n",
       "    }\n",
       "\n",
       "    .dataframe thead th {\n",
       "        text-align: right;\n",
       "    }\n",
       "</style>\n",
       "<table border=\"1\" class=\"dataframe\">\n",
       "  <thead>\n",
       "    <tr style=\"text-align: right;\">\n",
       "      <th></th>\n",
       "      <th>userId</th>\n",
       "      <th>movieId</th>\n",
       "      <th>rating</th>\n",
       "      <th>timestamp</th>\n",
       "    </tr>\n",
       "  </thead>\n",
       "  <tbody>\n",
       "    <tr>\n",
       "      <th>0</th>\n",
       "      <td>5163</td>\n",
       "      <td>57669</td>\n",
       "      <td>4.0</td>\n",
       "      <td>1518349992</td>\n",
       "    </tr>\n",
       "    <tr>\n",
       "      <th>1</th>\n",
       "      <td>106343</td>\n",
       "      <td>5</td>\n",
       "      <td>4.5</td>\n",
       "      <td>1206238739</td>\n",
       "    </tr>\n",
       "    <tr>\n",
       "      <th>2</th>\n",
       "      <td>146790</td>\n",
       "      <td>5459</td>\n",
       "      <td>5.0</td>\n",
       "      <td>1076215539</td>\n",
       "    </tr>\n",
       "    <tr>\n",
       "      <th>3</th>\n",
       "      <td>106362</td>\n",
       "      <td>32296</td>\n",
       "      <td>2.0</td>\n",
       "      <td>1423042565</td>\n",
       "    </tr>\n",
       "    <tr>\n",
       "      <th>4</th>\n",
       "      <td>9041</td>\n",
       "      <td>366</td>\n",
       "      <td>3.0</td>\n",
       "      <td>833375837</td>\n",
       "    </tr>\n",
       "  </tbody>\n",
       "</table>\n",
       "</div>"
      ],
      "text/plain": [
       "   userId  movieId  rating   timestamp\n",
       "0    5163    57669     4.0  1518349992\n",
       "1  106343        5     4.5  1206238739\n",
       "2  146790     5459     5.0  1076215539\n",
       "3  106362    32296     2.0  1423042565\n",
       "4    9041      366     3.0   833375837"
      ]
     },
     "execution_count": 4,
     "metadata": {},
     "output_type": "execute_result"
    }
   ],
   "source": [
    "# Sample of the ratings dataset.\n",
    "\n",
    "ratings.head()\n"
   ]
  },
  {
   "cell_type": "code",
   "execution_count": 5,
   "id": "a3066726",
   "metadata": {},
   "outputs": [
    {
     "data": {
      "text/html": [
       "<div>\n",
       "<style scoped>\n",
       "    .dataframe tbody tr th:only-of-type {\n",
       "        vertical-align: middle;\n",
       "    }\n",
       "\n",
       "    .dataframe tbody tr th {\n",
       "        vertical-align: top;\n",
       "    }\n",
       "\n",
       "    .dataframe thead th {\n",
       "        text-align: right;\n",
       "    }\n",
       "</style>\n",
       "<table border=\"1\" class=\"dataframe\">\n",
       "  <thead>\n",
       "    <tr style=\"text-align: right;\">\n",
       "      <th></th>\n",
       "      <th>movieId</th>\n",
       "      <th>title</th>\n",
       "      <th>genres</th>\n",
       "    </tr>\n",
       "  </thead>\n",
       "  <tbody>\n",
       "    <tr>\n",
       "      <th>0</th>\n",
       "      <td>1</td>\n",
       "      <td>Toy Story (1995)</td>\n",
       "      <td>Adventure|Animation|Children|Comedy|Fantasy</td>\n",
       "    </tr>\n",
       "    <tr>\n",
       "      <th>1</th>\n",
       "      <td>2</td>\n",
       "      <td>Jumanji (1995)</td>\n",
       "      <td>Adventure|Children|Fantasy</td>\n",
       "    </tr>\n",
       "    <tr>\n",
       "      <th>2</th>\n",
       "      <td>3</td>\n",
       "      <td>Grumpier Old Men (1995)</td>\n",
       "      <td>Comedy|Romance</td>\n",
       "    </tr>\n",
       "    <tr>\n",
       "      <th>3</th>\n",
       "      <td>4</td>\n",
       "      <td>Waiting to Exhale (1995)</td>\n",
       "      <td>Comedy|Drama|Romance</td>\n",
       "    </tr>\n",
       "    <tr>\n",
       "      <th>4</th>\n",
       "      <td>5</td>\n",
       "      <td>Father of the Bride Part II (1995)</td>\n",
       "      <td>Comedy</td>\n",
       "    </tr>\n",
       "  </tbody>\n",
       "</table>\n",
       "</div>"
      ],
      "text/plain": [
       "   movieId                               title  \\\n",
       "0        1                    Toy Story (1995)   \n",
       "1        2                      Jumanji (1995)   \n",
       "2        3             Grumpier Old Men (1995)   \n",
       "3        4            Waiting to Exhale (1995)   \n",
       "4        5  Father of the Bride Part II (1995)   \n",
       "\n",
       "                                        genres  \n",
       "0  Adventure|Animation|Children|Comedy|Fantasy  \n",
       "1                   Adventure|Children|Fantasy  \n",
       "2                               Comedy|Romance  \n",
       "3                         Comedy|Drama|Romance  \n",
       "4                                       Comedy  "
      ]
     },
     "execution_count": 5,
     "metadata": {},
     "output_type": "execute_result"
    }
   ],
   "source": [
    "# Sample of the movie dataset.\n",
    "\n",
    "movies.head()"
   ]
  },
  {
   "cell_type": "markdown",
   "id": "0ca7b520",
   "metadata": {},
   "source": [
    "#### Shape of the Data"
   ]
  },
  {
   "cell_type": "code",
   "execution_count": 6,
   "id": "b7317871",
   "metadata": {},
   "outputs": [
    {
     "name": "stdout",
     "output_type": "stream",
     "text": [
      "ratings: (10000038, 4)\n",
      "movies:  (62423, 3)\n"
     ]
    }
   ],
   "source": [
    "# Display the shape of the data\n",
    "\n",
    "print(\"ratings:\", ratings.shape)\n",
    "print(\"movies: \", movies.shape)"
   ]
  },
  {
   "cell_type": "markdown",
   "id": "53ca4771",
   "metadata": {},
   "source": [
    "#### Columns/features in the data"
   ]
  },
  {
   "cell_type": "code",
   "execution_count": 7,
   "id": "60950598",
   "metadata": {},
   "outputs": [
    {
     "name": "stdout",
     "output_type": "stream",
     "text": [
      "ratings :  Index(['userId', 'movieId', 'rating', 'timestamp'], dtype='object')\n",
      "\n",
      "movies :  Index(['movieId', 'title', 'genres'], dtype='object')\n",
      "\n"
     ]
    }
   ],
   "source": [
    "# Display the column headings of the dataset\n",
    "print(\"ratings : \", ratings.columns,end=\"\\n\\n\")\n",
    "print(\"movies : \", movies.columns,end=\"\\n\\n\")\n"
   ]
  },
  {
   "cell_type": "markdown",
   "id": "3568df8f",
   "metadata": {},
   "source": [
    "#### Data Information\n"
   ]
  },
  {
   "cell_type": "code",
   "execution_count": 8,
   "id": "d33c4c9b",
   "metadata": {},
   "outputs": [
    {
     "name": "stdout",
     "output_type": "stream",
     "text": [
      "<class 'pandas.core.frame.DataFrame'>\n",
      "Int64Index: 10000038 entries, 0 to 2500037\n",
      "Data columns (total 4 columns):\n",
      " #   Column     Dtype  \n",
      "---  ------     -----  \n",
      " 0   userId     int64  \n",
      " 1   movieId    int64  \n",
      " 2   rating     float64\n",
      " 3   timestamp  int64  \n",
      "dtypes: float64(1), int64(3)\n",
      "memory usage: 381.5 MB\n"
     ]
    }
   ],
   "source": [
    "# Information of the ratings dataset.\n",
    "ratings.info()"
   ]
  },
  {
   "cell_type": "code",
   "execution_count": 9,
   "id": "c0c45e91",
   "metadata": {},
   "outputs": [
    {
     "name": "stdout",
     "output_type": "stream",
     "text": [
      "<class 'pandas.core.frame.DataFrame'>\n",
      "RangeIndex: 62423 entries, 0 to 62422\n",
      "Data columns (total 3 columns):\n",
      " #   Column   Non-Null Count  Dtype \n",
      "---  ------   --------------  ----- \n",
      " 0   movieId  62423 non-null  int64 \n",
      " 1   title    62423 non-null  object\n",
      " 2   genres   62423 non-null  object\n",
      "dtypes: int64(1), object(2)\n",
      "memory usage: 1.4+ MB\n"
     ]
    }
   ],
   "source": [
    "# Information of the movie dataset.\n",
    "movies.info()"
   ]
  },
  {
   "cell_type": "markdown",
   "id": "0faca913",
   "metadata": {},
   "source": [
    "#### Check for Null values"
   ]
  },
  {
   "cell_type": "code",
   "execution_count": 12,
   "id": "1467abf2",
   "metadata": {},
   "outputs": [
    {
     "data": {
      "text/plain": [
       "userId       0\n",
       "movieId      0\n",
       "rating       0\n",
       "timestamp    0\n",
       "dtype: int64"
      ]
     },
     "execution_count": 12,
     "metadata": {},
     "output_type": "execute_result"
    }
   ],
   "source": [
    "# Chech null values for each column\n",
    "ratings.isnull().sum()"
   ]
  },
  {
   "cell_type": "code",
   "execution_count": 13,
   "id": "ec0c2a01",
   "metadata": {
    "scrolled": true
   },
   "outputs": [
    {
     "data": {
      "text/plain": [
       "movieId    0\n",
       "title      0\n",
       "genres     0\n",
       "dtype: int64"
      ]
     },
     "execution_count": 13,
     "metadata": {},
     "output_type": "execute_result"
    }
   ],
   "source": [
    " # Chech null values for each column\n",
    "movies.isnull().sum()  "
   ]
  },
  {
   "cell_type": "markdown",
   "id": "1467df28",
   "metadata": {},
   "source": [
    "#### Lenth of unique Features"
   ]
  },
  {
   "cell_type": "code",
   "execution_count": 17,
   "id": "70fd58e4",
   "metadata": {},
   "outputs": [
    {
     "name": "stdout",
     "output_type": "stream",
     "text": [
      "The ratings dataset contains 162541 unique users\n"
     ]
    }
   ],
   "source": [
    "# Number of unique Users in ratings dataset\n",
    "print(\"The ratings dataset contains\",ratings['userId'].nunique(), \"unique users.\")"
   ]
  },
  {
   "cell_type": "code",
   "execution_count": 18,
   "id": "6910c027",
   "metadata": {},
   "outputs": [
    {
     "name": "stdout",
     "output_type": "stream",
     "text": [
      "The ratings dataset contains 48213 unique movies.\n"
     ]
    }
   ],
   "source": [
    "# Number of unique movies in train dataset\n",
    "print(\"The ratings dataset contains\", ratings['movieId'].nunique(), \"unique movies.\")\n"
   ]
  },
  {
   "cell_type": "code",
   "execution_count": 22,
   "id": "3229c3ae",
   "metadata": {},
   "outputs": [
    {
     "name": "stdout",
     "output_type": "stream",
     "text": [
      "There are 10 unique ratings\n"
     ]
    }
   ],
   "source": [
    "# Number of unique ratings in train dataset\n",
    "print(\"There are\", ratings['rating'].nunique(), \"unique ratings\")\n"
   ]
  },
  {
   "cell_type": "code",
   "execution_count": 23,
   "id": "87543ecf",
   "metadata": {},
   "outputs": [
    {
     "name": "stdout",
     "output_type": "stream",
     "text": [
      "The movies dataset contains 62423 unique movies.\n"
     ]
    }
   ],
   "source": [
    "# Number of unique movies in movie dataset\n",
    "print(\"The movies dataset contains\", movies['movieId'].nunique(), \"unique movies.\")\n"
   ]
  },
  {
   "cell_type": "markdown",
   "id": "53362a36",
   "metadata": {},
   "source": [
    "### Important Observations\n",
    "\n",
    "There are a total of 48,213 Movies in the train dataset with 162,541 unique Users providing a total of 10,000,038 Rating based on 10 unique Ratings. The dataset does not have any null values.\n",
    "\n",
    "Important features:\n",
    "\n",
    "- userId: Unique Id provided for each User\n",
    "- movieId: Unique Id provided for each Movie\n",
    "- Only movies with at least one rating or tag are included in the dataset.\n",
    "- rating: Ratings are made on a 5-star scale, with half-star increments (0.5 stars - 5.0 stars).\n",
    "- genres column include the following genres: \n",
    "<ul>\n",
    "    <li>Action</li>\n",
    "    <li>Adventure</li>\n",
    "    <li>Animation</li>\n",
    "    <li>Children’s</li>\n",
    "    <li>Comedy</li>\n",
    "    <li>Crime</li>\n",
    "    <li>Documentary</li>\n",
    "    <li>Drama</li>\n",
    "    <li>Fantasy</li>\n",
    "    <li>Film-Noir</li>\n",
    "    <li>Horror</li>\n",
    "    <li>Musical</li>\n",
    "    <li>Mystery</li>\n",
    "    <li>Romance</li>\n",
    "    <li>Sci-Fi</li>\n",
    "    <li>Thriller</li>\n",
    "    <li>War</li>\n",
    "    <li>Western</li>\n",
    "    <li>(no genres listed)</li>\n",
    "\n",
    "    \n",
    "</ul>"
   ]
  },
  {
   "cell_type": "markdown",
   "id": "beabce6c",
   "metadata": {},
   "source": [
    "<a id= \"six\"></a>\n",
    "## 6. Data Visualization\n",
    "<a href= #cont>Back to table of contents</a>\n",
    "\n",
    "Below we will be looking at a visual distribution of some of the data.\n",
    "\n",
    "We will be looking at the following distributions:\n",
    "\n",
    "- Amount of released movies per year\n",
    "- Amount of movies per genre\n"
   ]
  },
  {
   "cell_type": "markdown",
   "id": "0b9512bf",
   "metadata": {},
   "source": [
    "#### Movie Count per Year\n",
    "From the movies dataset the year will be extracted from the title column, this will be plotted to see which year has the highest number of movie releases."
   ]
  },
  {
   "cell_type": "code",
   "execution_count": 24,
   "id": "e93de94d",
   "metadata": {},
   "outputs": [],
   "source": [
    "movies_copy = movies.copy()    # Create a copy of movies dataset\n",
    "\n",
    "# Extract the year from title column.\n",
    "movies_copy['year'] = movies_copy['title'].str.extract('.*\\((.*)\\).*',expand = False)\n"
   ]
  },
  {
   "cell_type": "code",
   "execution_count": 25,
   "id": "808492d7",
   "metadata": {},
   "outputs": [
    {
     "data": {
      "image/png": "[encoded data removed]",
      "text/plain": [
       "<Figure size 720x720 with 1 Axes>"
      ]
     },
     "metadata": {
      "needs_background": "light"
     },
     "output_type": "display_data"
    }
   ],
   "source": [
    "# Plot the graph of number of movies release per year.\n",
    "\n",
    "plt.figure(figsize=(10,10))\n",
    "plt.plot(movies_copy.groupby('year')['title'].count())\n",
    "plt.show()\n"
   ]
  },
  {
   "cell_type": "code",
   "execution_count": 26,
   "id": "6f56514a",
   "metadata": {},
   "outputs": [
    {
     "name": "stdout",
     "output_type": "stream",
     "text": [
      "year\n",
      "2015    2513\n",
      "Name: title, dtype: int64\n"
     ]
    },
    {
     "data": {
      "text/plain": [
       "count     140.000000\n",
       "mean      442.971429\n",
       "std       576.979794\n",
       "min         1.000000\n",
       "25%        26.000000\n",
       "50%       267.000000\n",
       "75%       517.250000\n",
       "max      2513.000000\n",
       "Name: title, dtype: float64"
      ]
     },
     "execution_count": 26,
     "metadata": {},
     "output_type": "execute_result"
    }
   ],
   "source": [
    "# Find the year that released the max number of movies.\n",
    "\n",
    "# Group by year and count the number of movies per per\n",
    "movies_per_year = movies_copy.groupby('year')['title'].count()\n",
    "\n",
    "# Use .max() to find the largest amount of movies.\n",
    "print(movies_per_year[movies_per_year == movies_per_year.max()])\n",
    "\n",
    "# Generate descriptive statistics\n",
    "movies_per_year.describe()"
   ]
  },
  {
   "cell_type": "markdown",
   "id": "5e69c72d",
   "metadata": {},
   "source": [
    "The max of 2513 movies was released in the year 2015. We can also see that the average movies released per year is 442 movies."
   ]
  },
  {
   "cell_type": "markdown",
   "id": "6231a17e",
   "metadata": {},
   "source": [
    "#### Movie Count per Genre\n",
    "\n",
    "First we will extract individual genres from the genres column. Each genre name will be in a separate column with a value of '1' if the movie has the genre and a value of '0' if not."
   ]
  },
  {
   "cell_type": "code",
   "execution_count": 28,
   "id": "166716da",
   "metadata": {},
   "outputs": [
    {
     "name": "stdout",
     "output_type": "stream",
     "text": [
      "Genre Names:\n",
      "\n",
      " ['Adventure', 'Animation', 'Children', 'Comedy', 'Fantasy', 'Romance', 'Drama', 'Action', 'Crime', 'Thriller', 'Horror', 'Mystery', 'Sci-Fi', 'IMAX', 'Documentary', 'War', 'Musical', 'Western', 'Film-Noir', '(no genres listed)']\n",
      "\n",
      "Number of genres: 20\n"
     ]
    }
   ],
   "source": [
    "# Seperate the genres in the genre column\n",
    "\n",
    "# Create an empty list to store the genres in\n",
    "genre_list = []\n",
    "\n",
    "# Iterate through the genres column row by row\n",
    "for row in range(len(movies_copy['genres'])):\n",
    "    # Iterate genre by genre and split the data on \"|\"\n",
    "    for genre in movies_copy['genres'][row].split('|'):   \n",
    "        # Select genre if the genre is not in the genre_list\n",
    "        if genre not in genre_list: \n",
    "            # Add the genre to the genre_list\n",
    "            genre_list.append(genre)    \n",
    "\n",
    "# Print Genre names and number of genres\n",
    "print('Genre Names:\\n\\n', genre_list)\n",
    "print('\\nNumber of genres:', len(genre_list))"
   ]
  },
  {
   "cell_type": "code",
   "execution_count": 30,
   "id": "c5284369",
   "metadata": {},
   "outputs": [],
   "source": [
    "# Create a column for each genre\n",
    "\n",
    "# Assign a numeric value of zero to all the genre columns\n",
    "for genre in genre_list:\n",
    "    movies_copy[genre] = 0\n",
    "\n",
    "# Iterate row by row through the genre column\n",
    "for i in range(len(movies_copy['genres'])):\n",
    "    # Iterate genre by genre and split the data on \"|\"\n",
    "    for x in movies_copy['genres'][i].split('|'):\n",
    "        # Assign a value of one if the genre is included\n",
    "        movies_copy[x][i]=1"
   ]
  },
  {
   "cell_type": "code",
   "execution_count": 31,
   "id": "b3216046",
   "metadata": {},
   "outputs": [
    {
     "data": {
      "text/html": [
       "<div>\n",
       "<style scoped>\n",
       "    .dataframe tbody tr th:only-of-type {\n",
       "        vertical-align: middle;\n",
       "    }\n",
       "\n",
       "    .dataframe tbody tr th {\n",
       "        vertical-align: top;\n",
       "    }\n",
       "\n",
       "    .dataframe thead th {\n",
       "        text-align: right;\n",
       "    }\n",
       "</style>\n",
       "<table border=\"1\" class=\"dataframe\">\n",
       "  <thead>\n",
       "    <tr style=\"text-align: right;\">\n",
       "      <th></th>\n",
       "      <th>movieId</th>\n",
       "      <th>title</th>\n",
       "      <th>genres</th>\n",
       "      <th>year</th>\n",
       "      <th>Adventure</th>\n",
       "      <th>Animation</th>\n",
       "      <th>Children</th>\n",
       "      <th>Comedy</th>\n",
       "      <th>Fantasy</th>\n",
       "      <th>Romance</th>\n",
       "      <th>...</th>\n",
       "      <th>Horror</th>\n",
       "      <th>Mystery</th>\n",
       "      <th>Sci-Fi</th>\n",
       "      <th>IMAX</th>\n",
       "      <th>Documentary</th>\n",
       "      <th>War</th>\n",
       "      <th>Musical</th>\n",
       "      <th>Western</th>\n",
       "      <th>Film-Noir</th>\n",
       "      <th>(no genres listed)</th>\n",
       "    </tr>\n",
       "  </thead>\n",
       "  <tbody>\n",
       "    <tr>\n",
       "      <th>0</th>\n",
       "      <td>1</td>\n",
       "      <td>Toy Story (1995)</td>\n",
       "      <td>Adventure|Animation|Children|Comedy|Fantasy</td>\n",
       "      <td>1995</td>\n",
       "      <td>1</td>\n",
       "      <td>1</td>\n",
       "      <td>1</td>\n",
       "      <td>1</td>\n",
       "      <td>1</td>\n",
       "      <td>0</td>\n",
       "      <td>...</td>\n",
       "      <td>0</td>\n",
       "      <td>0</td>\n",
       "      <td>0</td>\n",
       "      <td>0</td>\n",
       "      <td>0</td>\n",
       "      <td>0</td>\n",
       "      <td>0</td>\n",
       "      <td>0</td>\n",
       "      <td>0</td>\n",
       "      <td>0</td>\n",
       "    </tr>\n",
       "    <tr>\n",
       "      <th>1</th>\n",
       "      <td>2</td>\n",
       "      <td>Jumanji (1995)</td>\n",
       "      <td>Adventure|Children|Fantasy</td>\n",
       "      <td>1995</td>\n",
       "      <td>1</td>\n",
       "      <td>0</td>\n",
       "      <td>1</td>\n",
       "      <td>0</td>\n",
       "      <td>1</td>\n",
       "      <td>0</td>\n",
       "      <td>...</td>\n",
       "      <td>0</td>\n",
       "      <td>0</td>\n",
       "      <td>0</td>\n",
       "      <td>0</td>\n",
       "      <td>0</td>\n",
       "      <td>0</td>\n",
       "      <td>0</td>\n",
       "      <td>0</td>\n",
       "      <td>0</td>\n",
       "      <td>0</td>\n",
       "    </tr>\n",
       "    <tr>\n",
       "      <th>2</th>\n",
       "      <td>3</td>\n",
       "      <td>Grumpier Old Men (1995)</td>\n",
       "      <td>Comedy|Romance</td>\n",
       "      <td>1995</td>\n",
       "      <td>0</td>\n",
       "      <td>0</td>\n",
       "      <td>0</td>\n",
       "      <td>1</td>\n",
       "      <td>0</td>\n",
       "      <td>1</td>\n",
       "      <td>...</td>\n",
       "      <td>0</td>\n",
       "      <td>0</td>\n",
       "      <td>0</td>\n",
       "      <td>0</td>\n",
       "      <td>0</td>\n",
       "      <td>0</td>\n",
       "      <td>0</td>\n",
       "      <td>0</td>\n",
       "      <td>0</td>\n",
       "      <td>0</td>\n",
       "    </tr>\n",
       "    <tr>\n",
       "      <th>3</th>\n",
       "      <td>4</td>\n",
       "      <td>Waiting to Exhale (1995)</td>\n",
       "      <td>Comedy|Drama|Romance</td>\n",
       "      <td>1995</td>\n",
       "      <td>0</td>\n",
       "      <td>0</td>\n",
       "      <td>0</td>\n",
       "      <td>1</td>\n",
       "      <td>0</td>\n",
       "      <td>1</td>\n",
       "      <td>...</td>\n",
       "      <td>0</td>\n",
       "      <td>0</td>\n",
       "      <td>0</td>\n",
       "      <td>0</td>\n",
       "      <td>0</td>\n",
       "      <td>0</td>\n",
       "      <td>0</td>\n",
       "      <td>0</td>\n",
       "      <td>0</td>\n",
       "      <td>0</td>\n",
       "    </tr>\n",
       "    <tr>\n",
       "      <th>4</th>\n",
       "      <td>5</td>\n",
       "      <td>Father of the Bride Part II (1995)</td>\n",
       "      <td>Comedy</td>\n",
       "      <td>1995</td>\n",
       "      <td>0</td>\n",
       "      <td>0</td>\n",
       "      <td>0</td>\n",
       "      <td>1</td>\n",
       "      <td>0</td>\n",
       "      <td>0</td>\n",
       "      <td>...</td>\n",
       "      <td>0</td>\n",
       "      <td>0</td>\n",
       "      <td>0</td>\n",
       "      <td>0</td>\n",
       "      <td>0</td>\n",
       "      <td>0</td>\n",
       "      <td>0</td>\n",
       "      <td>0</td>\n",
       "      <td>0</td>\n",
       "      <td>0</td>\n",
       "    </tr>\n",
       "  </tbody>\n",
       "</table>\n",
       "<p>5 rows × 24 columns</p>\n",
       "</div>"
      ],
      "text/plain": [
       "   movieId                               title  \\\n",
       "0        1                    Toy Story (1995)   \n",
       "1        2                      Jumanji (1995)   \n",
       "2        3             Grumpier Old Men (1995)   \n",
       "3        4            Waiting to Exhale (1995)   \n",
       "4        5  Father of the Bride Part II (1995)   \n",
       "\n",
       "                                        genres  year  Adventure  Animation  \\\n",
       "0  Adventure|Animation|Children|Comedy|Fantasy  1995          1          1   \n",
       "1                   Adventure|Children|Fantasy  1995          1          0   \n",
       "2                               Comedy|Romance  1995          0          0   \n",
       "3                         Comedy|Drama|Romance  1995          0          0   \n",
       "4                                       Comedy  1995          0          0   \n",
       "\n",
       "   Children  Comedy  Fantasy  Romance  ...  Horror  Mystery  Sci-Fi  IMAX  \\\n",
       "0         1       1        1        0  ...       0        0       0     0   \n",
       "1         1       0        1        0  ...       0        0       0     0   \n",
       "2         0       1        0        1  ...       0        0       0     0   \n",
       "3         0       1        0        1  ...       0        0       0     0   \n",
       "4         0       1        0        0  ...       0        0       0     0   \n",
       "\n",
       "   Documentary  War  Musical  Western  Film-Noir  (no genres listed)  \n",
       "0            0    0        0        0          0                   0  \n",
       "1            0    0        0        0          0                   0  \n",
       "2            0    0        0        0          0                   0  \n",
       "3            0    0        0        0          0                   0  \n",
       "4            0    0        0        0          0                   0  \n",
       "\n",
       "[5 rows x 24 columns]"
      ]
     },
     "execution_count": 31,
     "metadata": {},
     "output_type": "execute_result"
    }
   ],
   "source": [
    " # Sample of the movies dataset to confirm the new genre coulumns\n",
    "movies_copy.head()  "
   ]
  },
  {
   "cell_type": "markdown",
   "id": "5d216ed0",
   "metadata": {},
   "source": [
    "Next we will create a dictionary of the movie count per genre."
   ]
  },
  {
   "cell_type": "code",
   "execution_count": 32,
   "id": "2dd7ffad",
   "metadata": {},
   "outputs": [
    {
     "name": "stdout",
     "output_type": "stream",
     "text": [
      "Adventure    \t\t\t\t4145\n",
      "Animation    \t\t\t\t2929\n",
      "Children    \t\t\t\t2935\n",
      "Comedy    \t\t\t\t16870\n",
      "Fantasy    \t\t\t\t2731\n",
      "Romance    \t\t\t\t7719\n",
      "Drama    \t\t\t\t25606\n",
      "Action    \t\t\t\t7348\n",
      "Crime    \t\t\t\t5319\n",
      "Thriller    \t\t\t\t8654\n",
      "Horror    \t\t\t\t5989\n",
      "Mystery    \t\t\t\t2925\n",
      "Sci-Fi    \t\t\t\t3595\n",
      "IMAX    \t\t\t\t195\n",
      "Documentary    \t\t\t\t5605\n",
      "War    \t\t\t\t1874\n",
      "Musical    \t\t\t\t1054\n",
      "Western    \t\t\t\t1399\n",
      "Film-Noir    \t\t\t\t353\n",
      "(no genres listed)    \t\t\t\t5062\n"
     ]
    }
   ],
   "source": [
    "# Create an empty dictionary\n",
    "genre_dict ={}\n",
    "\n",
    "# Iterate through the new genre columns\n",
    "for i in movies_copy.columns[4:]:\n",
    "    genre_dict[i]=movies_copy[i].value_counts()[1]\n",
    "    print(\"{}    \\t\\t\\t\\t{}\".format(i,genre_dict[i]))"
   ]
  },
  {
   "cell_type": "code",
   "execution_count": 33,
   "id": "cb324bb2",
   "metadata": {},
   "outputs": [
    {
     "data": {
      "image/png": "[encoded data removed]",
      "text/plain": [
       "<Figure size 720x720 with 1 Axes>"
      ]
     },
     "metadata": {
      "needs_background": "light"
     },
     "output_type": "display_data"
    }
   ],
   "source": [
    "# Plot Movie count per Genre\n",
    "plt.figure(figsize=(10,10))\n",
    "plt.bar(height = genre_dict.values(), x = genre_dict.keys())\n",
    "plt.xticks(rotation=90)\n",
    "plt.show()"
   ]
  },
  {
   "cell_type": "markdown",
   "id": "8e74e5f9",
   "metadata": {},
   "source": [
    "From the graph we can see that the genre 'Drama' is the most common genre for the movies in the dataset with 25606 movies followed by comedy with 16870 movies."
   ]
  },
  {
   "cell_type": "markdown",
   "id": "adfc199f",
   "metadata": {},
   "source": [
    "<a id= \"seven\"></a>\n",
    "## 7. Data Preprocessing\n",
    "<a href= #cont>Back to table of contents</a>\n",
    "\n",
    "In machine learning data preprocessing refers to the process of manipulating and preparing the data so that we can use the data to train machine learning models. Data preprocessing is a crucial step as we are not always provided with a clean dataset to work with.\n",
    "\n",
    "We are working with two datasets, the ratings and movies datasets. We already performed EDA on these datasets so now in the data preprocessing stage we can manipulate and format the datasets with the information we discovered in the EDA phase. \n",
    "\n"
   ]
  },
  {
   "cell_type": "markdown",
   "id": "f4fa0ce9",
   "metadata": {},
   "source": [
    "<a id= \"sevenone\"></a>\n",
    "### 7.1 Preprocessing: ratings dataset\n",
    "\n",
    "Below we will be performing data preprocessing on the ratings dataset."
   ]
  },
  {
   "cell_type": "code",
   "execution_count": 34,
   "id": "c9479dd4",
   "metadata": {
    "scrolled": true
   },
   "outputs": [
    {
     "data": {
      "text/html": [
       "<div>\n",
       "<style scoped>\n",
       "    .dataframe tbody tr th:only-of-type {\n",
       "        vertical-align: middle;\n",
       "    }\n",
       "\n",
       "    .dataframe tbody tr th {\n",
       "        vertical-align: top;\n",
       "    }\n",
       "\n",
       "    .dataframe thead th {\n",
       "        text-align: right;\n",
       "    }\n",
       "</style>\n",
       "<table border=\"1\" class=\"dataframe\">\n",
       "  <thead>\n",
       "    <tr style=\"text-align: right;\">\n",
       "      <th></th>\n",
       "      <th>userId</th>\n",
       "      <th>movieId</th>\n",
       "      <th>rating</th>\n",
       "      <th>timestamp</th>\n",
       "    </tr>\n",
       "  </thead>\n",
       "  <tbody>\n",
       "    <tr>\n",
       "      <th>0</th>\n",
       "      <td>5163</td>\n",
       "      <td>57669</td>\n",
       "      <td>4.0</td>\n",
       "      <td>1518349992</td>\n",
       "    </tr>\n",
       "    <tr>\n",
       "      <th>1</th>\n",
       "      <td>106343</td>\n",
       "      <td>5</td>\n",
       "      <td>4.5</td>\n",
       "      <td>1206238739</td>\n",
       "    </tr>\n",
       "    <tr>\n",
       "      <th>2</th>\n",
       "      <td>146790</td>\n",
       "      <td>5459</td>\n",
       "      <td>5.0</td>\n",
       "      <td>1076215539</td>\n",
       "    </tr>\n",
       "    <tr>\n",
       "      <th>3</th>\n",
       "      <td>106362</td>\n",
       "      <td>32296</td>\n",
       "      <td>2.0</td>\n",
       "      <td>1423042565</td>\n",
       "    </tr>\n",
       "    <tr>\n",
       "      <th>4</th>\n",
       "      <td>9041</td>\n",
       "      <td>366</td>\n",
       "      <td>3.0</td>\n",
       "      <td>833375837</td>\n",
       "    </tr>\n",
       "  </tbody>\n",
       "</table>\n",
       "</div>"
      ],
      "text/plain": [
       "   userId  movieId  rating   timestamp\n",
       "0    5163    57669     4.0  1518349992\n",
       "1  106343        5     4.5  1206238739\n",
       "2  146790     5459     5.0  1076215539\n",
       "3  106362    32296     2.0  1423042565\n",
       "4    9041      366     3.0   833375837"
      ]
     },
     "execution_count": 34,
     "metadata": {},
     "output_type": "execute_result"
    }
   ],
   "source": [
    "# Look at a sample of the data\n",
    "ratings.head()"
   ]
  },
  {
   "cell_type": "markdown",
   "id": "ce8ae548",
   "metadata": {},
   "source": [
    "The timestamp column does not really provide any useful information regarding the movie rating, thus we can drop this column."
   ]
  },
  {
   "cell_type": "code",
   "execution_count": 36,
   "id": "cbaaefbd",
   "metadata": {},
   "outputs": [],
   "source": [
    "# drop timestamp column\n",
    "ratings.drop('timestamp',axis=1, inplace= True)   "
   ]
  },
  {
   "cell_type": "code",
   "execution_count": 37,
   "id": "a0f071ec",
   "metadata": {
    "scrolled": false
   },
   "outputs": [
    {
     "data": {
      "text/html": [
       "<div>\n",
       "<style scoped>\n",
       "    .dataframe tbody tr th:only-of-type {\n",
       "        vertical-align: middle;\n",
       "    }\n",
       "\n",
       "    .dataframe tbody tr th {\n",
       "        vertical-align: top;\n",
       "    }\n",
       "\n",
       "    .dataframe thead th {\n",
       "        text-align: right;\n",
       "    }\n",
       "</style>\n",
       "<table border=\"1\" class=\"dataframe\">\n",
       "  <thead>\n",
       "    <tr style=\"text-align: right;\">\n",
       "      <th></th>\n",
       "      <th>userId</th>\n",
       "      <th>movieId</th>\n",
       "      <th>rating</th>\n",
       "    </tr>\n",
       "  </thead>\n",
       "  <tbody>\n",
       "    <tr>\n",
       "      <th>0</th>\n",
       "      <td>5163</td>\n",
       "      <td>57669</td>\n",
       "      <td>4.0</td>\n",
       "    </tr>\n",
       "    <tr>\n",
       "      <th>1</th>\n",
       "      <td>106343</td>\n",
       "      <td>5</td>\n",
       "      <td>4.5</td>\n",
       "    </tr>\n",
       "    <tr>\n",
       "      <th>2</th>\n",
       "      <td>146790</td>\n",
       "      <td>5459</td>\n",
       "      <td>5.0</td>\n",
       "    </tr>\n",
       "    <tr>\n",
       "      <th>3</th>\n",
       "      <td>106362</td>\n",
       "      <td>32296</td>\n",
       "      <td>2.0</td>\n",
       "    </tr>\n",
       "    <tr>\n",
       "      <th>4</th>\n",
       "      <td>9041</td>\n",
       "      <td>366</td>\n",
       "      <td>3.0</td>\n",
       "    </tr>\n",
       "  </tbody>\n",
       "</table>\n",
       "</div>"
      ],
      "text/plain": [
       "   userId  movieId  rating\n",
       "0    5163    57669     4.0\n",
       "1  106343        5     4.5\n",
       "2  146790     5459     5.0\n",
       "3  106362    32296     2.0\n",
       "4    9041      366     3.0"
      ]
     },
     "execution_count": 37,
     "metadata": {},
     "output_type": "execute_result"
    }
   ],
   "source": [
    "# Look at a sample of the data\n",
    "ratings.head()"
   ]
  },
  {
   "cell_type": "markdown",
   "id": "bb996b4a",
   "metadata": {},
   "source": [
    "By looking at a sample of the data we can see that the timestamp column was dropped successfully."
   ]
  },
  {
   "cell_type": "markdown",
   "id": "390ef6c6",
   "metadata": {},
   "source": [
    "<a id= \"seventwo\"></a>\n",
    "### 7.2 Preprocessing: movies dataset\n",
    "\n",
    "If we look at a sample of the movies dataset below we can see that the genres column contains all the genre categories for a movie in a single cell. The genres column will be split so that each genre is in its own column and a numerical value will be assigned to each genre if the movie contains the specific genre. A value of 1 means the movie falls into this genre and a value of 0 means the movie does not fall into this genre. "
   ]
  },
  {
   "cell_type": "code",
   "execution_count": 40,
   "id": "967cef99",
   "metadata": {},
   "outputs": [
    {
     "data": {
      "text/html": [
       "<div>\n",
       "<style scoped>\n",
       "    .dataframe tbody tr th:only-of-type {\n",
       "        vertical-align: middle;\n",
       "    }\n",
       "\n",
       "    .dataframe tbody tr th {\n",
       "        vertical-align: top;\n",
       "    }\n",
       "\n",
       "    .dataframe thead th {\n",
       "        text-align: right;\n",
       "    }\n",
       "</style>\n",
       "<table border=\"1\" class=\"dataframe\">\n",
       "  <thead>\n",
       "    <tr style=\"text-align: right;\">\n",
       "      <th></th>\n",
       "      <th>movieId</th>\n",
       "      <th>title</th>\n",
       "      <th>genres</th>\n",
       "    </tr>\n",
       "  </thead>\n",
       "  <tbody>\n",
       "    <tr>\n",
       "      <th>0</th>\n",
       "      <td>1</td>\n",
       "      <td>Toy Story (1995)</td>\n",
       "      <td>Adventure|Animation|Children|Comedy|Fantasy</td>\n",
       "    </tr>\n",
       "    <tr>\n",
       "      <th>1</th>\n",
       "      <td>2</td>\n",
       "      <td>Jumanji (1995)</td>\n",
       "      <td>Adventure|Children|Fantasy</td>\n",
       "    </tr>\n",
       "    <tr>\n",
       "      <th>2</th>\n",
       "      <td>3</td>\n",
       "      <td>Grumpier Old Men (1995)</td>\n",
       "      <td>Comedy|Romance</td>\n",
       "    </tr>\n",
       "    <tr>\n",
       "      <th>3</th>\n",
       "      <td>4</td>\n",
       "      <td>Waiting to Exhale (1995)</td>\n",
       "      <td>Comedy|Drama|Romance</td>\n",
       "    </tr>\n",
       "    <tr>\n",
       "      <th>4</th>\n",
       "      <td>5</td>\n",
       "      <td>Father of the Bride Part II (1995)</td>\n",
       "      <td>Comedy</td>\n",
       "    </tr>\n",
       "  </tbody>\n",
       "</table>\n",
       "</div>"
      ],
      "text/plain": [
       "   movieId                               title  \\\n",
       "0        1                    Toy Story (1995)   \n",
       "1        2                      Jumanji (1995)   \n",
       "2        3             Grumpier Old Men (1995)   \n",
       "3        4            Waiting to Exhale (1995)   \n",
       "4        5  Father of the Bride Part II (1995)   \n",
       "\n",
       "                                        genres  \n",
       "0  Adventure|Animation|Children|Comedy|Fantasy  \n",
       "1                   Adventure|Children|Fantasy  \n",
       "2                               Comedy|Romance  \n",
       "3                         Comedy|Drama|Romance  \n",
       "4                                       Comedy  "
      ]
     },
     "execution_count": 40,
     "metadata": {},
     "output_type": "execute_result"
    }
   ],
   "source": [
    "# Look at a sample of the data\n",
    "movies.head()"
   ]
  },
  {
   "cell_type": "markdown",
   "id": "7f438309",
   "metadata": {},
   "source": [
    "#### \"genre\" column Split\n",
    "\n",
    "Here we will split the genre categories on “|”, then we will create a new column called “genre_corpus” that contains a corpus of the genre categories."
   ]
  },
  {
   "cell_type": "code",
   "execution_count": 42,
   "id": "65bcf074",
   "metadata": {
    "scrolled": true
   },
   "outputs": [],
   "source": [
    "# Isolate the genres column\n",
    "genres = movies['genres']\n",
    "# Iterate row by row and split the data on “|” and save it in a list\n",
    "genres = [genre.split(\"|\") for genre in genres]\n",
    "# Create a “genre_corpus” column and assign the list of values to it\n",
    "movies['genre_corpus']= genres\n",
    "# Join the data in “genre_corpus” column with one empty space\n",
    "movies['genre_corpus'] = movies.genre_corpus.apply(lambda x:\" \".join(x))\n"
   ]
  },
  {
   "cell_type": "code",
   "execution_count": 43,
   "id": "e6d99a14",
   "metadata": {
    "scrolled": true
   },
   "outputs": [
    {
     "data": {
      "text/html": [
       "<div>\n",
       "<style scoped>\n",
       "    .dataframe tbody tr th:only-of-type {\n",
       "        vertical-align: middle;\n",
       "    }\n",
       "\n",
       "    .dataframe tbody tr th {\n",
       "        vertical-align: top;\n",
       "    }\n",
       "\n",
       "    .dataframe thead th {\n",
       "        text-align: right;\n",
       "    }\n",
       "</style>\n",
       "<table border=\"1\" class=\"dataframe\">\n",
       "  <thead>\n",
       "    <tr style=\"text-align: right;\">\n",
       "      <th></th>\n",
       "      <th>movieId</th>\n",
       "      <th>title</th>\n",
       "      <th>genres</th>\n",
       "      <th>genre_corpus</th>\n",
       "    </tr>\n",
       "  </thead>\n",
       "  <tbody>\n",
       "    <tr>\n",
       "      <th>0</th>\n",
       "      <td>1</td>\n",
       "      <td>Toy Story (1995)</td>\n",
       "      <td>Adventure|Animation|Children|Comedy|Fantasy</td>\n",
       "      <td>Adventure Animation Children Comedy Fantasy</td>\n",
       "    </tr>\n",
       "    <tr>\n",
       "      <th>1</th>\n",
       "      <td>2</td>\n",
       "      <td>Jumanji (1995)</td>\n",
       "      <td>Adventure|Children|Fantasy</td>\n",
       "      <td>Adventure Children Fantasy</td>\n",
       "    </tr>\n",
       "    <tr>\n",
       "      <th>2</th>\n",
       "      <td>3</td>\n",
       "      <td>Grumpier Old Men (1995)</td>\n",
       "      <td>Comedy|Romance</td>\n",
       "      <td>Comedy Romance</td>\n",
       "    </tr>\n",
       "    <tr>\n",
       "      <th>3</th>\n",
       "      <td>4</td>\n",
       "      <td>Waiting to Exhale (1995)</td>\n",
       "      <td>Comedy|Drama|Romance</td>\n",
       "      <td>Comedy Drama Romance</td>\n",
       "    </tr>\n",
       "    <tr>\n",
       "      <th>4</th>\n",
       "      <td>5</td>\n",
       "      <td>Father of the Bride Part II (1995)</td>\n",
       "      <td>Comedy</td>\n",
       "      <td>Comedy</td>\n",
       "    </tr>\n",
       "  </tbody>\n",
       "</table>\n",
       "</div>"
      ],
      "text/plain": [
       "   movieId                               title  \\\n",
       "0        1                    Toy Story (1995)   \n",
       "1        2                      Jumanji (1995)   \n",
       "2        3             Grumpier Old Men (1995)   \n",
       "3        4            Waiting to Exhale (1995)   \n",
       "4        5  Father of the Bride Part II (1995)   \n",
       "\n",
       "                                        genres  \\\n",
       "0  Adventure|Animation|Children|Comedy|Fantasy   \n",
       "1                   Adventure|Children|Fantasy   \n",
       "2                               Comedy|Romance   \n",
       "3                         Comedy|Drama|Romance   \n",
       "4                                       Comedy   \n",
       "\n",
       "                                  genre_corpus  \n",
       "0  Adventure Animation Children Comedy Fantasy  \n",
       "1                   Adventure Children Fantasy  \n",
       "2                               Comedy Romance  \n",
       "3                         Comedy Drama Romance  \n",
       "4                                       Comedy  "
      ]
     },
     "execution_count": 43,
     "metadata": {},
     "output_type": "execute_result"
    }
   ],
   "source": [
    "# Look at a sample of the data\n",
    "movies.head()"
   ]
  },
  {
   "cell_type": "markdown",
   "id": "f0c24658",
   "metadata": {},
   "source": [
    "We can see the genre_corpus column was created correctly and the individual genre are now joined by a empty space"
   ]
  },
  {
   "cell_type": "markdown",
   "id": "3a9f0dd5",
   "metadata": {},
   "source": [
    "#### Text to Numeric Transform\n",
    "\n",
    "Next we need to create a column for each genre and assign a numeric value to it if the genre is included in the movie.\n",
    "\n",
    "To accomplish this we will use the CountVectorizer method to transform the data. CountVectorizer is a tool provided by the scikit-learn library in Python. The CountVectorizer is used to extract features from text data, then a numeric value is assigned to each feature based on the frequency of each word. More information about CountVectorizer can be found [here](https://www.geeksforgeeks.org/using-countvectorizer-to-extracting-features-from-text/#:~:text=CountVectorizer%20is%20a%20great%20tool,occurs%20in%20the%20entire%20text.&text=The%20value%20of%20each%20cell,in%20that%20particular%20text%20sample.)."
   ]
  },
  {
   "cell_type": "code",
   "execution_count": 44,
   "id": "856a28c6",
   "metadata": {},
   "outputs": [],
   "source": [
    "# Initiate CountVectorizer\n",
    "cvect = CountVectorizer() \n",
    "# fit and transform the data from the genre_corpus column and transform it to an array\n",
    "vectors = cvect.fit_transform(movies['genre_corpus']).toarray()"
   ]
  },
  {
   "cell_type": "code",
   "execution_count": 45,
   "id": "ead77d47",
   "metadata": {},
   "outputs": [],
   "source": [
    "# Create a dataframe or the vectorized data\n",
    "genre_df = pd.DataFrame(vectors)\n",
    "# Assign feature names to each column\n",
    "genre_df.columns = cvect.get_feature_names()\n"
   ]
  },
  {
   "cell_type": "markdown",
   "id": "09defd64",
   "metadata": {},
   "source": [
    "Create a new dataset called movies_2 that contains the vectorized data.This dataset will consist of the original movies dataset and the vectorized dataset genre_df. Use pd.concat() to join the data, and drop the columns “genres” and “genre_corpus”, because they are no longer relevant."
   ]
  },
  {
   "cell_type": "code",
   "execution_count": 46,
   "id": "c1c18a32",
   "metadata": {},
   "outputs": [],
   "source": [
    "# Add the datasets\n",
    "movies_2 = pd.concat([movies, genre_df], axis=1)\n",
    "# Drop columns\n",
    "movies_2 = movies_2.drop(['genres', 'genre_corpus'], axis = 1)"
   ]
  },
  {
   "cell_type": "code",
   "execution_count": 48,
   "id": "fabea304",
   "metadata": {
    "scrolled": true
   },
   "outputs": [
    {
     "data": {
      "text/html": [
       "<div>\n",
       "<style scoped>\n",
       "    .dataframe tbody tr th:only-of-type {\n",
       "        vertical-align: middle;\n",
       "    }\n",
       "\n",
       "    .dataframe tbody tr th {\n",
       "        vertical-align: top;\n",
       "    }\n",
       "\n",
       "    .dataframe thead th {\n",
       "        text-align: right;\n",
       "    }\n",
       "</style>\n",
       "<table border=\"1\" class=\"dataframe\">\n",
       "  <thead>\n",
       "    <tr style=\"text-align: right;\">\n",
       "      <th></th>\n",
       "      <th>movieId</th>\n",
       "      <th>title</th>\n",
       "      <th>action</th>\n",
       "      <th>adventure</th>\n",
       "      <th>animation</th>\n",
       "      <th>children</th>\n",
       "      <th>comedy</th>\n",
       "      <th>crime</th>\n",
       "      <th>documentary</th>\n",
       "      <th>drama</th>\n",
       "      <th>...</th>\n",
       "      <th>listed</th>\n",
       "      <th>musical</th>\n",
       "      <th>mystery</th>\n",
       "      <th>no</th>\n",
       "      <th>noir</th>\n",
       "      <th>romance</th>\n",
       "      <th>sci</th>\n",
       "      <th>thriller</th>\n",
       "      <th>war</th>\n",
       "      <th>western</th>\n",
       "    </tr>\n",
       "  </thead>\n",
       "  <tbody>\n",
       "    <tr>\n",
       "      <th>0</th>\n",
       "      <td>1</td>\n",
       "      <td>Toy Story (1995)</td>\n",
       "      <td>0</td>\n",
       "      <td>1</td>\n",
       "      <td>1</td>\n",
       "      <td>1</td>\n",
       "      <td>1</td>\n",
       "      <td>0</td>\n",
       "      <td>0</td>\n",
       "      <td>0</td>\n",
       "      <td>...</td>\n",
       "      <td>0</td>\n",
       "      <td>0</td>\n",
       "      <td>0</td>\n",
       "      <td>0</td>\n",
       "      <td>0</td>\n",
       "      <td>0</td>\n",
       "      <td>0</td>\n",
       "      <td>0</td>\n",
       "      <td>0</td>\n",
       "      <td>0</td>\n",
       "    </tr>\n",
       "    <tr>\n",
       "      <th>1</th>\n",
       "      <td>2</td>\n",
       "      <td>Jumanji (1995)</td>\n",
       "      <td>0</td>\n",
       "      <td>1</td>\n",
       "      <td>0</td>\n",
       "      <td>1</td>\n",
       "      <td>0</td>\n",
       "      <td>0</td>\n",
       "      <td>0</td>\n",
       "      <td>0</td>\n",
       "      <td>...</td>\n",
       "      <td>0</td>\n",
       "      <td>0</td>\n",
       "      <td>0</td>\n",
       "      <td>0</td>\n",
       "      <td>0</td>\n",
       "      <td>0</td>\n",
       "      <td>0</td>\n",
       "      <td>0</td>\n",
       "      <td>0</td>\n",
       "      <td>0</td>\n",
       "    </tr>\n",
       "    <tr>\n",
       "      <th>2</th>\n",
       "      <td>3</td>\n",
       "      <td>Grumpier Old Men (1995)</td>\n",
       "      <td>0</td>\n",
       "      <td>0</td>\n",
       "      <td>0</td>\n",
       "      <td>0</td>\n",
       "      <td>1</td>\n",
       "      <td>0</td>\n",
       "      <td>0</td>\n",
       "      <td>0</td>\n",
       "      <td>...</td>\n",
       "      <td>0</td>\n",
       "      <td>0</td>\n",
       "      <td>0</td>\n",
       "      <td>0</td>\n",
       "      <td>0</td>\n",
       "      <td>1</td>\n",
       "      <td>0</td>\n",
       "      <td>0</td>\n",
       "      <td>0</td>\n",
       "      <td>0</td>\n",
       "    </tr>\n",
       "    <tr>\n",
       "      <th>3</th>\n",
       "      <td>4</td>\n",
       "      <td>Waiting to Exhale (1995)</td>\n",
       "      <td>0</td>\n",
       "      <td>0</td>\n",
       "      <td>0</td>\n",
       "      <td>0</td>\n",
       "      <td>1</td>\n",
       "      <td>0</td>\n",
       "      <td>0</td>\n",
       "      <td>1</td>\n",
       "      <td>...</td>\n",
       "      <td>0</td>\n",
       "      <td>0</td>\n",
       "      <td>0</td>\n",
       "      <td>0</td>\n",
       "      <td>0</td>\n",
       "      <td>1</td>\n",
       "      <td>0</td>\n",
       "      <td>0</td>\n",
       "      <td>0</td>\n",
       "      <td>0</td>\n",
       "    </tr>\n",
       "    <tr>\n",
       "      <th>4</th>\n",
       "      <td>5</td>\n",
       "      <td>Father of the Bride Part II (1995)</td>\n",
       "      <td>0</td>\n",
       "      <td>0</td>\n",
       "      <td>0</td>\n",
       "      <td>0</td>\n",
       "      <td>1</td>\n",
       "      <td>0</td>\n",
       "      <td>0</td>\n",
       "      <td>0</td>\n",
       "      <td>...</td>\n",
       "      <td>0</td>\n",
       "      <td>0</td>\n",
       "      <td>0</td>\n",
       "      <td>0</td>\n",
       "      <td>0</td>\n",
       "      <td>0</td>\n",
       "      <td>0</td>\n",
       "      <td>0</td>\n",
       "      <td>0</td>\n",
       "      <td>0</td>\n",
       "    </tr>\n",
       "  </tbody>\n",
       "</table>\n",
       "<p>5 rows × 25 columns</p>\n",
       "</div>"
      ],
      "text/plain": [
       "   movieId                               title  action  adventure  animation  \\\n",
       "0        1                    Toy Story (1995)       0          1          1   \n",
       "1        2                      Jumanji (1995)       0          1          0   \n",
       "2        3             Grumpier Old Men (1995)       0          0          0   \n",
       "3        4            Waiting to Exhale (1995)       0          0          0   \n",
       "4        5  Father of the Bride Part II (1995)       0          0          0   \n",
       "\n",
       "   children  comedy  crime  documentary  drama  ...  listed  musical  mystery  \\\n",
       "0         1       1      0            0      0  ...       0        0        0   \n",
       "1         1       0      0            0      0  ...       0        0        0   \n",
       "2         0       1      0            0      0  ...       0        0        0   \n",
       "3         0       1      0            0      1  ...       0        0        0   \n",
       "4         0       1      0            0      0  ...       0        0        0   \n",
       "\n",
       "   no  noir  romance  sci  thriller  war  western  \n",
       "0   0     0        0    0         0    0        0  \n",
       "1   0     0        0    0         0    0        0  \n",
       "2   0     0        1    0         0    0        0  \n",
       "3   0     0        1    0         0    0        0  \n",
       "4   0     0        0    0         0    0        0  \n",
       "\n",
       "[5 rows x 25 columns]"
      ]
     },
     "execution_count": 48,
     "metadata": {},
     "output_type": "execute_result"
    }
   ],
   "source": [
    "# Look at a sample of the data\n",
    "movies_2.head()"
   ]
  },
  {
   "cell_type": "markdown",
   "id": "b2f6deb5",
   "metadata": {},
   "source": [
    "As we can see from the sample of the data that the datasets were joined correctly, thus we will be saving this dataset to a csv file, this will allow us to import this new dataset when needed without going through the preprocessing steps again."
   ]
  },
  {
   "cell_type": "code",
   "execution_count": 41,
   "id": "c0847284",
   "metadata": {},
   "outputs": [],
   "source": [
    "# Save new dataset to csv\n",
    "movies_2.to_csv('data/movies_2.csv', index = False)"
   ]
  },
  {
   "cell_type": "markdown",
   "id": "309291b6",
   "metadata": {},
   "source": [
    "<a id= \"eight\"></a>\n",
    "## 8. Model Building\n",
    "<a href= #cont>Back to table of contents</a>\n",
    "\n",
    "In this section we will build multiple models in order to find the most accurate model, the accuracy of the model will be measured by the Root Mean Squared Error(RMSE). Now to build the model we split the dataset into training and testing datasets(testing size=20% of the actual data and use random_state = 42). To actually fit the model, we call the model.fit function and supply it the training input and output."
   ]
  },
  {
   "cell_type": "markdown",
   "id": "51d83e7f",
   "metadata": {},
   "source": [
    "### 8.1 Train and Test Sets\n",
    "\n",
    "We use train_test_split() from the scikit-learn library to split the dataset into training data and testing data. The training dataset will be used to train a model and the testing set will be used to test how accurate the model is on unseen data.\n",
    "\n",
    "First we have to import the datasets that will be used to train and test the models, next the features and targets will be identified and separated and lastly the data will be split into training data and testing data.\n",
    "\n"
   ]
  },
  {
   "cell_type": "code",
   "execution_count": 2,
   "id": "27e0c995",
   "metadata": {},
   "outputs": [],
   "source": [
    "# Import ratings data\n",
    "\n",
    "ratings_1 = pd.read_csv('data/ratings_1.csv')\n",
    "ratings_2 = pd.read_csv('data/ratings_2.csv')\n",
    "ratings_3 = pd.read_csv('data/ratings_3.csv')\n",
    "ratings_4 = pd.read_csv('data/ratings_4.csv')\n",
    "\n",
    "# Add ratings together to form complete dataset\n",
    "\n",
    "ratings = ratings_1.append(ratings_2).append(ratings_3).append(ratings_4)\n",
    "ratings.drop('timestamp', axis=1, inplace= True)\n",
    "\n",
    "# Import movie dataset with vectorized data\n",
    "movies = pd.read_csv('data/movies_2.csv')"
   ]
  },
  {
   "cell_type": "markdown",
   "id": "ee0e3beb",
   "metadata": {},
   "source": [
    "Next we have to merge the ratings and the movies dataset on “movieId”, this will create a dataset called train_df that includes the user rating per movies and also the genre information that will be used to train the model."
   ]
  },
  {
   "cell_type": "code",
   "execution_count": 3,
   "id": "5846974f",
   "metadata": {},
   "outputs": [],
   "source": [
    "train_df = ratings.merge(movies, on= 'movieId', how= 'left')"
   ]
  },
  {
   "cell_type": "code",
   "execution_count": 4,
   "id": "ac668fa3",
   "metadata": {
    "scrolled": true
   },
   "outputs": [
    {
     "data": {
      "text/html": [
       "<div>\n",
       "<style scoped>\n",
       "    .dataframe tbody tr th:only-of-type {\n",
       "        vertical-align: middle;\n",
       "    }\n",
       "\n",
       "    .dataframe tbody tr th {\n",
       "        vertical-align: top;\n",
       "    }\n",
       "\n",
       "    .dataframe thead th {\n",
       "        text-align: right;\n",
       "    }\n",
       "</style>\n",
       "<table border=\"1\" class=\"dataframe\">\n",
       "  <thead>\n",
       "    <tr style=\"text-align: right;\">\n",
       "      <th></th>\n",
       "      <th>userId</th>\n",
       "      <th>movieId</th>\n",
       "      <th>rating</th>\n",
       "      <th>title</th>\n",
       "      <th>action</th>\n",
       "      <th>adventure</th>\n",
       "      <th>animation</th>\n",
       "      <th>children</th>\n",
       "      <th>comedy</th>\n",
       "      <th>crime</th>\n",
       "      <th>...</th>\n",
       "      <th>listed</th>\n",
       "      <th>musical</th>\n",
       "      <th>mystery</th>\n",
       "      <th>no</th>\n",
       "      <th>noir</th>\n",
       "      <th>romance</th>\n",
       "      <th>sci</th>\n",
       "      <th>thriller</th>\n",
       "      <th>war</th>\n",
       "      <th>western</th>\n",
       "    </tr>\n",
       "  </thead>\n",
       "  <tbody>\n",
       "    <tr>\n",
       "      <th>0</th>\n",
       "      <td>5163</td>\n",
       "      <td>57669</td>\n",
       "      <td>4.0</td>\n",
       "      <td>In Bruges (2008)</td>\n",
       "      <td>0</td>\n",
       "      <td>0</td>\n",
       "      <td>0</td>\n",
       "      <td>0</td>\n",
       "      <td>1</td>\n",
       "      <td>1</td>\n",
       "      <td>...</td>\n",
       "      <td>0</td>\n",
       "      <td>0</td>\n",
       "      <td>0</td>\n",
       "      <td>0</td>\n",
       "      <td>0</td>\n",
       "      <td>0</td>\n",
       "      <td>0</td>\n",
       "      <td>1</td>\n",
       "      <td>0</td>\n",
       "      <td>0</td>\n",
       "    </tr>\n",
       "    <tr>\n",
       "      <th>1</th>\n",
       "      <td>106343</td>\n",
       "      <td>5</td>\n",
       "      <td>4.5</td>\n",
       "      <td>Father of the Bride Part II (1995)</td>\n",
       "      <td>0</td>\n",
       "      <td>0</td>\n",
       "      <td>0</td>\n",
       "      <td>0</td>\n",
       "      <td>1</td>\n",
       "      <td>0</td>\n",
       "      <td>...</td>\n",
       "      <td>0</td>\n",
       "      <td>0</td>\n",
       "      <td>0</td>\n",
       "      <td>0</td>\n",
       "      <td>0</td>\n",
       "      <td>0</td>\n",
       "      <td>0</td>\n",
       "      <td>0</td>\n",
       "      <td>0</td>\n",
       "      <td>0</td>\n",
       "    </tr>\n",
       "    <tr>\n",
       "      <th>2</th>\n",
       "      <td>146790</td>\n",
       "      <td>5459</td>\n",
       "      <td>5.0</td>\n",
       "      <td>Men in Black II (a.k.a. MIIB) (a.k.a. MIB 2) (...</td>\n",
       "      <td>1</td>\n",
       "      <td>0</td>\n",
       "      <td>0</td>\n",
       "      <td>0</td>\n",
       "      <td>1</td>\n",
       "      <td>0</td>\n",
       "      <td>...</td>\n",
       "      <td>0</td>\n",
       "      <td>0</td>\n",
       "      <td>0</td>\n",
       "      <td>0</td>\n",
       "      <td>0</td>\n",
       "      <td>0</td>\n",
       "      <td>1</td>\n",
       "      <td>0</td>\n",
       "      <td>0</td>\n",
       "      <td>0</td>\n",
       "    </tr>\n",
       "    <tr>\n",
       "      <th>3</th>\n",
       "      <td>106362</td>\n",
       "      <td>32296</td>\n",
       "      <td>2.0</td>\n",
       "      <td>Miss Congeniality 2: Armed and Fabulous (2005)</td>\n",
       "      <td>0</td>\n",
       "      <td>1</td>\n",
       "      <td>0</td>\n",
       "      <td>0</td>\n",
       "      <td>1</td>\n",
       "      <td>1</td>\n",
       "      <td>...</td>\n",
       "      <td>0</td>\n",
       "      <td>0</td>\n",
       "      <td>0</td>\n",
       "      <td>0</td>\n",
       "      <td>0</td>\n",
       "      <td>0</td>\n",
       "      <td>0</td>\n",
       "      <td>0</td>\n",
       "      <td>0</td>\n",
       "      <td>0</td>\n",
       "    </tr>\n",
       "    <tr>\n",
       "      <th>4</th>\n",
       "      <td>9041</td>\n",
       "      <td>366</td>\n",
       "      <td>3.0</td>\n",
       "      <td>Wes Craven's New Nightmare (Nightmare on Elm S...</td>\n",
       "      <td>0</td>\n",
       "      <td>0</td>\n",
       "      <td>0</td>\n",
       "      <td>0</td>\n",
       "      <td>0</td>\n",
       "      <td>0</td>\n",
       "      <td>...</td>\n",
       "      <td>0</td>\n",
       "      <td>0</td>\n",
       "      <td>1</td>\n",
       "      <td>0</td>\n",
       "      <td>0</td>\n",
       "      <td>0</td>\n",
       "      <td>0</td>\n",
       "      <td>1</td>\n",
       "      <td>0</td>\n",
       "      <td>0</td>\n",
       "    </tr>\n",
       "  </tbody>\n",
       "</table>\n",
       "<p>5 rows × 27 columns</p>\n",
       "</div>"
      ],
      "text/plain": [
       "   userId  movieId  rating                                              title  \\\n",
       "0    5163    57669     4.0                                   In Bruges (2008)   \n",
       "1  106343        5     4.5                 Father of the Bride Part II (1995)   \n",
       "2  146790     5459     5.0  Men in Black II (a.k.a. MIIB) (a.k.a. MIB 2) (...   \n",
       "3  106362    32296     2.0     Miss Congeniality 2: Armed and Fabulous (2005)   \n",
       "4    9041      366     3.0  Wes Craven's New Nightmare (Nightmare on Elm S...   \n",
       "\n",
       "   action  adventure  animation  children  comedy  crime  ...  listed  \\\n",
       "0       0          0          0         0       1      1  ...       0   \n",
       "1       0          0          0         0       1      0  ...       0   \n",
       "2       1          0          0         0       1      0  ...       0   \n",
       "3       0          1          0         0       1      1  ...       0   \n",
       "4       0          0          0         0       0      0  ...       0   \n",
       "\n",
       "   musical  mystery  no  noir  romance  sci  thriller  war  western  \n",
       "0        0        0   0     0        0    0         1    0        0  \n",
       "1        0        0   0     0        0    0         0    0        0  \n",
       "2        0        0   0     0        0    1         0    0        0  \n",
       "3        0        0   0     0        0    0         0    0        0  \n",
       "4        0        1   0     0        0    0         1    0        0  \n",
       "\n",
       "[5 rows x 27 columns]"
      ]
     },
     "execution_count": 4,
     "metadata": {},
     "output_type": "execute_result"
    }
   ],
   "source": [
    "# Look  at a sample of the data\n",
    "\n",
    "train_df.head()"
   ]
  },
  {
   "cell_type": "markdown",
   "id": "2056bf83",
   "metadata": {},
   "source": [
    "From the sample of the train_df dataset we can see that the merge was successful.\n",
    "\n",
    "Next we will identify the features and target of the dataset. The target variable is the “ratings” column and the features are created by dropping the columns; 'movieId','rating','title' from train_df. Once the features and target are identified we can use train_test_split() to split the data into training and testing data."
   ]
  },
  {
   "cell_type": "code",
   "execution_count": 78,
   "id": "eadbc902",
   "metadata": {},
   "outputs": [],
   "source": [
    "# Identify features and target\n",
    "\n",
    "# Features\n",
    "X = train_df.drop(['movieId','rating','title'], axis=1)\n",
    "\n",
    "# Target\n",
    "y = train_df['rating']\n",
    "\n",
    "# train test split\n",
    "X_train, X_test, y_train, y_test = train_test_split(X, y, test_size=0.2 , random_state = 42)\n"
   ]
  },
  {
   "cell_type": "code",
   "execution_count": 79,
   "id": "2bcb7cb1",
   "metadata": {
    "scrolled": true
   },
   "outputs": [
    {
     "data": {
      "text/plain": [
       "Index(['userId', 'action', 'adventure', 'animation', 'children', 'comedy',\n",
       "       'crime', 'documentary', 'drama', 'fantasy', 'fi', 'film', 'horror',\n",
       "       'imax', 'listed', 'musical', 'mystery', 'no', 'noir', 'romance', 'sci',\n",
       "       'thriller', 'war', 'western'],\n",
       "      dtype='object')"
      ]
     },
     "execution_count": 79,
     "metadata": {},
     "output_type": "execute_result"
    }
   ],
   "source": [
    "X.columns"
   ]
  },
  {
   "cell_type": "markdown",
   "id": "4f18e0b9",
   "metadata": {},
   "source": [
    "### 8.2 Model Training and Prediction\n",
    "\n",
    "Below multiple models will be created and trained to create a prediction. Then model accuracy will be determined by the RMSE, we are aiming for a RMSE of less than 0.85.\n",
    "\n",
    "Model building steps:\n",
    "- Initialize model\n",
    "- Fit the model with model.fit(X_train, y_train)\n",
    "- Create Prediction with model.predict(X_test)\n",
    "- Determine RMSE\n"
   ]
  },
  {
   "cell_type": "markdown",
   "id": "93ec845d",
   "metadata": {},
   "source": [
    "#### Model 1: Linear Regression\n",
    "\n",
    "small description"
   ]
  },
  {
   "cell_type": "code",
   "execution_count": 82,
   "id": "36b66365",
   "metadata": {},
   "outputs": [
    {
     "name": "stdout",
     "output_type": "stream",
     "text": [
      "Training time: 1.69s\n",
      "RMSE: 1.0453174328237982\n"
     ]
    }
   ],
   "source": [
    "# Initialize model\n",
    "lin_reg = LinearRegression()\n",
    "\n",
    "\n",
    "# Fit the model\n",
    "lin_reg.fit(X_train, y_train)\n",
    "\n",
    "\n",
    "#Create Prediction \n",
    "y_pred_1 = lin_reg.predict(X_test)\n",
    "\n",
    "# Determine RMSE\n",
    "RMSE_1 = np.sqrt(mean_squared_error(y_test,y_pred_1))\n",
    "\n",
    "print('RMSE:', RMSE_1)\n",
    "\n"
   ]
  },
  {
   "cell_type": "markdown",
   "id": "404d834a",
   "metadata": {},
   "source": [
    "#### Model 2 : RandomForestRegressor"
   ]
  },
  {
   "cell_type": "code",
   "execution_count": 83,
   "id": "010abde5",
   "metadata": {},
   "outputs": [
    {
     "name": "stdout",
     "output_type": "stream",
     "text": [
      "RMSE: 1.03588180998901\n"
     ]
    }
   ],
   "source": [
    "# Initialize model\n",
    "forest = RandomForestRegressor(n_estimators=500,criterion= 'mse',max_depth= 8, max_features= 'auto',random_state=42)\n",
    "\n",
    "# Fit the model\n",
    "forest.fit(X_train, y_train)\n",
    "\n",
    "#Create Prediction \n",
    "y_pred_2 = forest.predict(X_test)\n",
    "\n",
    "# Determine RMSE\n",
    "RMSE_2 = np.sqrt(mean_squared_error(y_test,y_pred_2))\n",
    "\n",
    "print('RMSE:', RMSE_2)\n"
   ]
  },
  {
   "cell_type": "markdown",
   "id": "c0af3e7a",
   "metadata": {},
   "source": [
    "#### Model 3: Lasso"
   ]
  },
  {
   "cell_type": "code",
   "execution_count": 84,
   "id": "1af657b8",
   "metadata": {},
   "outputs": [
    {
     "name": "stdout",
     "output_type": "stream",
     "text": [
      "RMSE: 1.0629570126475723\n"
     ]
    }
   ],
   "source": [
    "# Initialize model\n",
    "lasso_reg = Lasso()\n",
    "\n",
    "# Fit the model\n",
    "lasso_reg.fit(X_train, y_train)\n",
    "\n",
    "#Create Prediction \n",
    "y_pred_3 = lasso_reg.predict(X_test)\n",
    "\n",
    "# Determine RMSE\n",
    "RMSE_3 = np.sqrt(mean_squared_error(y_test,y_pred_3))\n",
    "\n",
    "print('RMSE:', RMSE_3)\n",
    "\n"
   ]
  },
  {
   "cell_type": "markdown",
   "id": "ffc6c87c",
   "metadata": {},
   "source": [
    "#### Model 4: XGBRegressor"
   ]
  },
  {
   "cell_type": "code",
   "execution_count": 85,
   "id": "56e0bef0",
   "metadata": {},
   "outputs": [
    {
     "name": "stderr",
     "output_type": "stream",
     "text": [
      "COMET WARNING: You must install graphviz to plot tree\n"
     ]
    },
    {
     "name": "stdout",
     "output_type": "stream",
     "text": [
      "Training time: 6.26s\n",
      "RMSE: 1.0329400214467368\n"
     ]
    }
   ],
   "source": [
    "\n",
    "# Initialize model\n",
    "xgb_reg = XGBRegressor()\n",
    "\n",
    "\n",
    "# Fit the model\n",
    "xgb_reg.fit(X_train, y_train)\n",
    "\n",
    "#Create Prediction \n",
    "y_pred_4 = xgb_reg.predict(X_test)\n",
    "\n",
    "\n",
    "\n",
    "# Determine RMSE\n",
    "RMSE_4 = np.sqrt(mean_squared_error(y_test,y_pred_4))\n",
    "\n",
    "print('RMSE:', RMSE_4)\n",
    "\n"
   ]
  },
  {
   "cell_type": "markdown",
   "id": "1f9c6932",
   "metadata": {},
   "source": [
    "#### Model 5: SVD model form scikit-surprise"
   ]
  },
  {
   "cell_type": "code",
   "execution_count": 93,
   "id": "987f3e81",
   "metadata": {},
   "outputs": [],
   "source": [
    "# Set the reader variable\n",
    "\n",
    "reader = Reader(rating_scale=(1,5))\n",
    "data = Dataset.load_from_df(ratings,reader)\n",
    "\n",
    "\n",
    "# Train Test Split method\n",
    "X_train, X_test = train_test_split(data,test_size=0.2)"
   ]
  },
  {
   "cell_type": "code",
   "execution_count": 94,
   "id": "a9b95bfc",
   "metadata": {},
   "outputs": [
    {
     "name": "stdout",
     "output_type": "stream",
     "text": [
      "RMSE: 0.8339\n",
      "RMSE: 0.8338624642122856\n"
     ]
    }
   ],
   "source": [
    "# Initialize model\n",
    "SVD_model = SVD()\n",
    "\n",
    "# Fit the model\n",
    "SVD_model.fit(X_train)\n",
    "\n",
    "#Create Predition\n",
    "y_pred_5 = SVD_model.test(X_test)\n",
    "\n",
    "# Determine RMSE\n",
    "RMSE_5 = accuracy.rmse(y_pred_5)\n",
    "\n",
    "print('RMSE:', RMSE_5)\n",
    "\n"
   ]
  },
  {
   "cell_type": "markdown",
   "id": "79746bb3",
   "metadata": {},
   "source": [
    "<a id= \"nine\"></a>\n",
    "## 9. Model Evaluation\n",
    "<a href= #cont>Back to table of contents</a>\n",
    "\n",
    "Below we will create a table of models and RMSE scores, from here we can compare the scores to determine which model is the most accurate."
   ]
  },
  {
   "cell_type": "code",
   "execution_count": 95,
   "id": "71b51b2f",
   "metadata": {},
   "outputs": [
    {
     "data": {
      "text/html": [
       "<div>\n",
       "<style scoped>\n",
       "    .dataframe tbody tr th:only-of-type {\n",
       "        vertical-align: middle;\n",
       "    }\n",
       "\n",
       "    .dataframe tbody tr th {\n",
       "        vertical-align: top;\n",
       "    }\n",
       "\n",
       "    .dataframe thead th {\n",
       "        text-align: right;\n",
       "    }\n",
       "</style>\n",
       "<table border=\"1\" class=\"dataframe\">\n",
       "  <thead>\n",
       "    <tr style=\"text-align: right;\">\n",
       "      <th></th>\n",
       "      <th>Model</th>\n",
       "      <th>RMSE</th>\n",
       "    </tr>\n",
       "  </thead>\n",
       "  <tbody>\n",
       "    <tr>\n",
       "      <th>4</th>\n",
       "      <td>SVD</td>\n",
       "      <td>0.833862</td>\n",
       "    </tr>\n",
       "    <tr>\n",
       "      <th>3</th>\n",
       "      <td>XGBRegressor</td>\n",
       "      <td>1.032940</td>\n",
       "    </tr>\n",
       "    <tr>\n",
       "      <th>1</th>\n",
       "      <td>RandomForestRegressor</td>\n",
       "      <td>1.035882</td>\n",
       "    </tr>\n",
       "    <tr>\n",
       "      <th>0</th>\n",
       "      <td>LinearRegression</td>\n",
       "      <td>1.045317</td>\n",
       "    </tr>\n",
       "    <tr>\n",
       "      <th>2</th>\n",
       "      <td>Lasso</td>\n",
       "      <td>1.062957</td>\n",
       "    </tr>\n",
       "  </tbody>\n",
       "</table>\n",
       "</div>"
      ],
      "text/plain": [
       "                   Model      RMSE\n",
       "4                    SVD  0.833862\n",
       "3           XGBRegressor  1.032940\n",
       "1  RandomForestRegressor  1.035882\n",
       "0       LinearRegression  1.045317\n",
       "2                  Lasso  1.062957"
      ]
     },
     "execution_count": 95,
     "metadata": {},
     "output_type": "execute_result"
    }
   ],
   "source": [
    "#Create a dictionary of model names and RMSE scors\n",
    "eval_dict = {\n",
    "    \"Model\": ['LinearRegression', 'RandomForestRegressor', 'Lasso','XGBRegressor', 'SVD'],\n",
    "    \"RMSE\": [RMSE_1, RMSE_2, RMSE_3, RMSE_4, RMSE_5]\n",
    "}\n",
    "\n",
    "# Create a DataFrame from the dictionary\n",
    "eval_df = pd.DataFrame(eval_dict)\n",
    "# Sort the Dataframe in ascending RMSE score\n",
    "eval_df.sort_values('RMSE',ascending=True)  "
   ]
  },
  {
   "cell_type": "markdown",
   "id": "0a5d7b7d",
   "metadata": {},
   "source": [
    "As we can see from the table above the SVD model is the most accurate with a RMSE score of 0.833862, this model will thus be used to create a Kaggel submission, this model will be used to create the movie recommender system as well. "
   ]
  },
  {
   "cell_type": "markdown",
   "id": "84ff2d1a",
   "metadata": {},
   "source": [
    " <a id=\"ten\"></a>\n",
    "## 10. Kaggle submission\n",
    "<a href=#cont>Back to Table of Contents</a>\n",
    "\n",
    "Below we will do the preprocessing and prediction on our Kaggel test data and save the submission to a csv file. For more information about this competition please visit [Kaggle](https://www.kaggle.com/c/202122-climate-change-belief-analysis/overview)."
   ]
  },
  {
   "cell_type": "code",
   "execution_count": 38,
   "id": "5b2fbc2f",
   "metadata": {},
   "outputs": [],
   "source": [
    "#Import data\n",
    "\n",
    "test = pd.read_csv('data/test.csv')\n",
    "movies_imdb_df = pd.read_csv('movies_imdb_df.csv')\n",
    "\n",
    "# Merge datasets\n",
    "test_df = test.merge(movies_imdb_df, how = 'left', on= 'movieId')"
   ]
  },
  {
   "cell_type": "code",
   "execution_count": 49,
   "id": "65eb6201",
   "metadata": {},
   "outputs": [],
   "source": [
    "\n",
    "# Identify feature columns\n",
    "test_col = test_df[['userId', 'year', 'Adventure', 'Animation', 'Children',\n",
    "                   'Comedy','Fantasy', 'Romance', 'Drama', 'Action', 'Crime',\n",
    "                   'Thriller', 'Horror','Mystery', 'Sci-Fi', 'IMAX', 'Documentary',\n",
    "                   'War', 'Musical', 'Western','Film-Noir', '(no genres listed)']]\n",
    "\n",
    "\n",
    "y_pred = xgb_reg.predict(test_col)\n",
    "test_df['rating'] = y_pred\n",
    "\n",
    "# Create Id column\n",
    "#cols = ['userId', 'movieId']\n",
    "#test_df['Id'] = test_df[cols].apply(lambda row: '_'.join(row.values.astype(str)), axis=1)\n",
    "\n",
    "submit_df = test_df[['Id', 'rating']]\n",
    "\n",
    "#submit_df.to_csv('kaggel_sub/xgb_reg_sub.csv', index = False)"
   ]
  },
  {
   "cell_type": "code",
   "execution_count": 51,
   "id": "29e609bd",
   "metadata": {},
   "outputs": [],
   "source": [
    "submit_df.to_csv('kaggel_sub/xgb_reg_sub.csv', index = False)"
   ]
  },
  {
   "cell_type": "code",
   "execution_count": null,
   "id": "3fe2049f",
   "metadata": {},
   "outputs": [],
   "source": []
  },
  {
   "cell_type": "markdown",
   "id": "c541d65d",
   "metadata": {},
   "source": [
    "<a id= \"eleven\"></a>\n",
    "## 11. Recommender Systems\n",
    "<a href= #cont>Back to table of contents</a>\n",
    "\n",
    "Recommender Systems is basically a system that takes the user's choice as input and predicts all the related movies, or news, books, etc.\n",
    "\n",
    "In your daily life you would have seen Recommender System in Action while Scrolling on Youtube, Netflix and Amazon to just name a few.\n"
   ]
  },
  {
   "cell_type": "markdown",
   "id": "fbb4bfd5",
   "metadata": {},
   "source": [
    "<a id= \"elevenone\"></a>\n",
    "### 11.1 Content Based Filtering\n",
    "\n",
    "This type of filtering system recommends movies to you on the basis of what you actually like. Imagine you love to watch comedy movies so a content-based recommender system will recommend you other related comedy movies which belong to this category.\n",
    "\n",
    "Steps Involved:\n",
    "\n",
    "- Step 1. Import the Dataset\n",
    "\n",
    "- Step 2. Data Processing Function\n",
    "\n",
    "- Step 3. Model Building Function\n",
    "\n",
    "- Step 4. Testing and Validation\n"
   ]
  },
  {
   "cell_type": "code",
   "execution_count": null,
   "id": "5f4221a0",
   "metadata": {},
   "outputs": [],
   "source": [
    "# Import data\n",
    "\n",
    "movies = pd.read_csv('data/movies.csv')\n"
   ]
  },
  {
   "cell_type": "markdown",
   "id": "d61cfc89",
   "metadata": {},
   "source": [
    "#### Data Processing Function\n",
    "\n",
    "We will create a function below to process the data in the movies dataset.\n",
    "\n",
    "Processing Steps:\n",
    "- Isolate the genres column\n",
    "- Split the values in the genres columns on \"|\"\n",
    "- Create a corpus of genres and join then with a space\n",
    "- Call the count vectorizer function\n",
    "- fit and transform the words in the genre_corpus\n",
    "\n",
    "The function will return an array of numeric data that will be used to create movie recommendations.\n"
   ]
  },
  {
   "cell_type": "code",
   "execution_count": null,
   "id": "36d3e37f",
   "metadata": {},
   "outputs": [],
   "source": [
    "def content_data_processing(df):\n",
    "    \"\"\"\n",
    "    create docstring\n",
    "    \"\"\"\n",
    "    genres = df['genres']\n",
    "    genres = [genre.split(\"|\") for genre in genres]\n",
    "    df['genre_corpus']= genres\n",
    "    df['genre_corpus'] = df.genre_corpus.apply(lambda x:\" \".join(x))\n",
    "    cvect = CountVectorizer() \n",
    "    vectors = cvect.fit_transform(df['genre_corpus']).toarray()\n",
    "    #print(vectors.shape)\n",
    "    return vectors"
   ]
  },
  {
   "cell_type": "markdown",
   "id": "01c12c6e",
   "metadata": {},
   "source": [
    "#### Function to recommend Movies\n",
    "\n",
    "Below we will create the model to recommend movies with Content Based Filtering. Our model should be capable of finding similarities between movies based on their genres.\n",
    "\n",
    "This recommender model takes three movie titles as input and then predicts the top n similar movies.\n",
    "\n",
    "To find the similarity between movies we will be using cosine similarity, this calculates the similarity of the movies based on the genres.\n",
    "\n",
    "Modeling Steps:\n",
    "- Identify the index of the movies\n",
    "- Create a random subset of 50% of the dataset(dataset is too large to create the similarity matrix from complete dataset)\n",
    "- Add the selected movies to the data subset\n",
    "- Call the content_data_processing function on the data subset to create the count vectorizer\n",
    "- Create the cosine similarity matrix of the vectorized data\n",
    "- Calculate the similarity scores of the selected movies\n",
    "- Sort the similarity scores of each movie in descending order\n",
    "- Create a list of all the similarity scores\n",
    "- Identify the indexes of the movies in the similarity scores list\n",
    "- Store the top n movies in a list\n",
    "- Return the recommended_movies list\n"
   ]
  },
  {
   "cell_type": "code",
   "execution_count": null,
   "id": "5ec0e1ee",
   "metadata": {},
   "outputs": [],
   "source": [
    "def content_model(movie_list, top_n):\n",
    "    \"\"\"\n",
    "    Create docstring and comment\n",
    "    \"\"\"\n",
    "\n",
    "    new_df = movies.copy()\n",
    "    \n",
    "    # Identify the index of the movies   \n",
    "    movie_index_1 = new_df[new_df['title'] == movie_list[0]].index[0]\n",
    "    movie_index_2 = new_df[new_df.title == movie_list[1]].index[0]\n",
    "    movie_index_3 =  new_df[new_df.title == movie_list[2]].index[0]\n",
    "    \n",
    "    # Create a random subset of 50% of the dataset\n",
    "    df_1 = new_df.sample(frac = 0.5)\n",
    "    df_2 = new_df.iloc[[movie_index_1,movie_index_2,movie_index_3]]\n",
    "    # Add the selected movies to the data subset\n",
    "    df_2 = df_2.append(df_1)\n",
    "    \n",
    "    # Create the cosine similarity matrix of the vectorized data\n",
    "    vectors = content_data_processing(df_2)\n",
    "    similarity = cosine_similarity(vectors)\n",
    "    \n",
    "    # Calculate the similarity scores of the selected movies\n",
    "    distances_1 = similarity[0]\n",
    "    distances_2 = similarity[1]\n",
    "    distances_3 = similarity[2]\n",
    "    \n",
    "    # Sort the similarity scores of each movie in descending order\n",
    "    sim_score_1 = pd.Series(distances_1).sort_values(ascending = False)\n",
    "    sim_score_2 = pd.Series(distances_2).sort_values(ascending = False)\n",
    "    sim_score_3 = pd.Series(distances_3).sort_values(ascending = False)\n",
    "    \n",
    "    # Create a list of all the similarity scores\n",
    "    sim_score_list = sim_score_1.append(sim_score_2).append(sim_score_3).sort_values(ascending = False)\n",
    "\n",
    "\n",
    "    # Identify the indexes of the movies in the similarity scores list\n",
    "    indexes = list(sim_score_list.index)\n",
    "    \n",
    "    # Store the top n movies in a list\n",
    "    recommended_movies = []\n",
    "    \n",
    "    top_n = 10\n",
    "    for i in indexes:\n",
    "        \n",
    "        if df_2.iloc[i].title not in movie_list and len(recommended_movies) < top_n:\n",
    "            recommended_movies.append(df_2.iloc[i].title)\n",
    "    \n",
    "    # Return list of movies    \n",
    "    return recommended_movies"
   ]
  },
  {
   "cell_type": "markdown",
   "id": "25dc8ca4",
   "metadata": {},
   "source": [
    "#### Testing and Validation\n",
    "\n",
    "Here we will test the function to recommend movies, a list of movies will be specified and the top 10 movies will be recommended."
   ]
  },
  {
   "cell_type": "code",
   "execution_count": null,
   "id": "64f39b48",
   "metadata": {},
   "outputs": [],
   "source": [
    "movie_list = ['Guardian Angel (1994)','Jack Frost (1979)','Wasteland No. 1: Ardent Verdant (2017)']\n",
    "\n",
    "recommended_movies = content_model(movie_list, 10)"
   ]
  },
  {
   "cell_type": "code",
   "execution_count": null,
   "id": "647d015c",
   "metadata": {},
   "outputs": [],
   "source": [
    "recommended_movies"
   ]
  },
  {
   "cell_type": "code",
   "execution_count": null,
   "id": "f1d2ba87",
   "metadata": {},
   "outputs": [],
   "source": []
  },
  {
   "cell_type": "markdown",
   "id": "29a9db5a",
   "metadata": {},
   "source": [
    "<a id= \"eleventwo\"></a>\n",
    "### 11.2 Collaborative Filtering\n",
    "\n",
    "Collaborative filtering is a method to create predictions based on what a user is interested in by collecting information, in this case the ratings of certain movies.\n",
    "\n",
    "\n",
    "Steps Involved:\n",
    "\n",
    "- Step 1. Import the Dataset\n",
    "- Step 2. Load the Model\n",
    "- Step 3. Function to predict ratings of Users\n",
    "- Step 4. Function to maps users to movies\n",
    "- Step 5. Function to Recommend Movies\n",
    "- Step 6. Testing and Validation\n"
   ]
  },
  {
   "cell_type": "code",
   "execution_count": null,
   "id": "7453bea1",
   "metadata": {},
   "outputs": [],
   "source": [
    "# Import data\n",
    "\n",
    "movies = pd.read_csv('data/movies.csv')\n",
    "\n",
    "ratings_1 = pd.read_csv('data/ratings_1.csv')\n",
    "ratings_2 = pd.read_csv('data/ratings_2.csv')\n",
    "ratings_3 = pd.read_csv('data/ratings_3.csv')\n",
    "ratings_4 = pd.read_csv('data/ratings_4.csv')\n",
    "\n",
    "# Add ratings together to form complete dataset\n",
    "\n",
    "ratings= ratings_1.append(ratings_2).append(ratings_3).append(ratings_4)"
   ]
  },
  {
   "cell_type": "code",
   "execution_count": null,
   "id": "9a2f96fa",
   "metadata": {},
   "outputs": [],
   "source": [
    "#Load svd model\n",
    "model=pickle.load(open('SVD_model_small.pkl', 'rb'))"
   ]
  },
  {
   "cell_type": "markdown",
   "id": "b02582b9",
   "metadata": {},
   "source": [
    "#### Function to predict ratings of Users\n",
    "\n",
    "This function was provided by the Streamlit template that can be found on GitHub [here]. We will be providing our own model to use in this function, this model we loaded above is the SVD model that was trained in the model building stage <a href= #eight>here</a>."
   ]
  },
  {
   "cell_type": "code",
   "execution_count": null,
   "id": "5a013e81",
   "metadata": {},
   "outputs": [],
   "source": [
    "def prediction_item(item_id):\n",
    "    \"\"\"Map a given favourite movie to users within the\n",
    "       MovieLens dataset with the same preference.\n",
    "\n",
    "    Parameters\n",
    "    ----------\n",
    "    item_id : int\n",
    "        A MovieLens Movie ID.\n",
    "\n",
    "    Returns\n",
    "    -------\n",
    "    list\n",
    "        User IDs of users with similar high ratings for the given movie.\n",
    "\n",
    "    \"\"\"\n",
    "    # Data preprosessing\n",
    "    reader = Reader(rating_scale=(0, 5))\n",
    "    load_df = Dataset.load_from_df(ratings_df,reader)\n",
    "    a_train = load_df.build_full_trainset()\n",
    "\n",
    "    predictions = []\n",
    "    for ui in a_train.all_users():\n",
    "        predictions.append(model.predict(iid=item_id,uid=ui, verbose = False))\n",
    "    return predictions\n"
   ]
  },
  {
   "cell_type": "markdown",
   "id": "7e0c393e",
   "metadata": {},
   "source": [
    "#### Function to maps users to movies\n",
    "\n",
    "This function was provided by the Streamlit template that can be found on GitHub [here]. This function will use the predictions created in the previous function to create a list of user id’s."
   ]
  },
  {
   "cell_type": "code",
   "execution_count": null,
   "id": "27bd9a49",
   "metadata": {},
   "outputs": [],
   "source": [
    "def pred_movies(movie_list):\n",
    "    \"\"\"Maps the given favourite movies selected within the app to corresponding\n",
    "    users within the MovieLens dataset.\n",
    "\n",
    "    Parameters\n",
    "    ----------\n",
    "    movie_list : list\n",
    "        Three favourite movies selected by the app user.\n",
    "\n",
    "    Returns\n",
    "    -------\n",
    "    list\n",
    "        User-ID's of users with similar high ratings for each movie.\n",
    "\n",
    "    \"\"\"\n",
    "    # Store the id of users\n",
    "    id_store=[]\n",
    "    # For each movie selected by a user of the app,\n",
    "    # predict a corresponding user within the dataset with the highest rating\n",
    "    for i in movie_list:\n",
    "        predictions = prediction_item(item_id = i)\n",
    "        predictions.sort(key=lambda x: x.est, reverse=True)\n",
    "        # Take the top 10 user id's from each movie with highest rankings\n",
    "        for pred in predictions[:10]:\n",
    "            id_store.append(pred.uid)\n",
    "    # Return a list of user id's\n",
    "    return id_store"
   ]
  },
  {
   "cell_type": "markdown",
   "id": "2545ecb6",
   "metadata": {},
   "source": [
    "#### Function to Recommend Movies\n",
    "\n",
    "Below we will create a function to recommend movies with collaborative filtering. This model should be capable of recommending movies based on how users rated similar movies.\n",
    "\n",
    "This recommender model takes three movie titles as input and then predicts the top n similar movies.\n",
    "\n",
    "Modeling Steps:\n",
    "\n",
    "- Create a copy of the movies dataset\n",
    "-Set the movieId column as the index\n",
    "-Create a pandas Series from the title column\n",
    "-Use the pred_movies() function to find user id\n",
    "-Get movie IDs and ratings for top users\n",
    "-Include predictions for chosen movies\n",
    "-Remove duplicate entries\n",
    "Create pivot table\n",
    "-Fill Nan values with 0's and save the utility matrix in scipy's sparse matrix format\n",
    "-Compute the similarity matrix using the cosine similarity metric\n",
    "-Save the matrix as a data frame to allow for easier indexing\n",
    "-Remove duplicate rows from matrix\n",
    "-Transpose matrix\n",
    "-Find IDs of chosen load_movie_titles\n",
    "-Sort the similarity scores of each movie in descending order\n",
    "-Create a list of all the similarity scores\n",
    "-Identify the indexes of the movies in the similarity scores list\n",
    "Removing chosen movies\n",
    "-Get titles of recommended movies\n",
    "-Return list of movies\n"
   ]
  },
  {
   "cell_type": "code",
   "execution_count": null,
   "id": "7243d937",
   "metadata": {},
   "outputs": [],
   "source": [
    "def collab_model(movie_list,top_n):\n",
    "    \"\"\"Performs Collaborative filtering based upon a list of movies supplied\n",
    "       by the app user.\n",
    "\n",
    "    Parameters\n",
    "    ----------\n",
    "    movie_list : list (str)\n",
    "        Favorite movies chosen by the app user.\n",
    "    top_n : type\n",
    "        Number of top recommendations to return to the user.\n",
    "\n",
    "    Returns\n",
    "    -------\n",
    "    list (str)\n",
    "        Titles of the top-n movie recommendations to the user.\n",
    "\n",
    "    \"\"\"\n",
    "    \n",
    "    # Create a copy of the movies dataset\n",
    "    new_df = movies_df.copy()\n",
    "    # Set the movieId column as the index\n",
    "    new_df.set_index('movieId',inplace=True)\n",
    "    \n",
    "    # Create a pandas Series from the title column\n",
    "    indices = pd.Series(new_df['title'])\n",
    "    # Use the pred_movies() function to find user id\n",
    "    users_ids = pred_movies(movie_list)\n",
    "    \n",
    "    # Get movie IDs and ratings for top users\n",
    "    df_init_users = ratings_df[ratings_df['userId']==users_ids[0]]\n",
    "    for i in users_ids[1:]:\n",
    "        df_init_users = df_init_users.append(ratings_df[ratings_df['userId']==i])\n",
    "    \n",
    "    # Include predictions for chosen movies\n",
    "    for j in movie_list:\n",
    "        a = pd.DataFrame(prediction_item(j))\n",
    "        for i in set(df_init_users['userId']):\n",
    "            mid = indices[indices == j].index[0]\n",
    "            est = a['est'][a['uid']==i].values[0]\n",
    "            df_init_users = df_init_users.append(pd.Series([int(i),int(mid),est], index=['userId','movieId','rating']), ignore_index=True)\n",
    "    \n",
    "    # Remove duplicate entries\n",
    "    df_init_users.drop_duplicates(inplace=True)\n",
    "    \n",
    "    # Create pivot table\n",
    "    util_matrix = df_init_users.pivot_table(index=['userId'], columns=['movieId'], values='rating')\n",
    "    \n",
    "    # Fill Nan values with 0's and save the utility matrix in scipy's sparse matrix format\n",
    "    util_matrix.fillna(0, inplace=True)\n",
    "    util_matrix_sparse = sp.sparse.csr_matrix(util_matrix.values)\n",
    "    \n",
    "    # Compute the similarity matrix using the cosine similarity metric\n",
    "    user_similarity = cosine_similarity(util_matrix_sparse.T)\n",
    "    \n",
    "    # Save the matrix as a dataframe to allow for easier indexing\n",
    "    user_sim_df = pd.DataFrame(user_similarity, index = util_matrix.columns, columns = util_matrix.columns)\n",
    "    user_similarity = cosine_similarity(np.array(df_init_users), np.array(df_init_users))\n",
    "    user_sim_df = pd.DataFrame(user_similarity, index = df_init_users['movieId'].values.astype(int), columns = df_init_users['movieId'].values.astype(int))\n",
    "    \n",
    "    # Remove duplicate rows from matrix\n",
    "    user_sim_df = user_sim_df.loc[~user_sim_df.index.duplicated(keep='first')]\n",
    "    \n",
    "    # Transpose matrix\n",
    "    user_sim_df = user_sim_df.T\n",
    "    \n",
    "    # Find IDs of chosen load_movie_titles\n",
    "    idx_1 = indices[indices == movie_list[0]].index[0]\n",
    "    idx_2 = indices[indices == movie_list[1]].index[0]\n",
    "    idx_3 = indices[indices == movie_list[2]].index[0]\n",
    "    \n",
    "    # Find IDs of chosen load_movie_titles\n",
    "    distances_1 = user_sim_df[idx_1]\n",
    "    distances_2 = user_sim_df[idx_2]\n",
    "    distances_3 = user_sim_df[idx_3]\n",
    "    \n",
    "    # Sort the similarity scores of each movie in descending order\n",
    "    sim_score_1 = pd.Series(distances_1).sort_values(ascending = False)\n",
    "    sim_score_2 = pd.Series(distances_2).sort_values(ascending = False)\n",
    "    sim_score_3 = pd.Series(distances_3).sort_values(ascending = False)\n",
    "    \n",
    "    # Create a list of all the similarity scores\n",
    "    sim_score_list = sim_score_1.append(sim_score_2).append(sim_score_3).sort_values(ascending = False)\n",
    "    \n",
    "    # Identify the indexes of the movies in the similarity scores list\n",
    "    top_50_indexes = list(sim_score_list.iloc[1:50].index)\n",
    "    \n",
    "    # Removing chosen movies\n",
    "    indexes = np.setdiff1d(top_50_indexes,[idx_1,idx_2,idx_3])\n",
    "    \n",
    "    # Get titles of recommended movies\n",
    "    recommended_movies = []\n",
    "    for i in indexes[:top_n]:\n",
    "        recommended_movies.append(list(movies_df[movies_df['movieId']==i]['title']))\n",
    "    \n",
    "    # Return list of movies\n",
    "    recommended_movies = [val for sublist in recommended_movies for val in sublist]\n",
    "    return recommended_movies\n"
   ]
  },
  {
   "cell_type": "markdown",
   "id": "ef7a1f2c",
   "metadata": {},
   "source": [
    "#### Testing and Validation\n",
    "\n",
    "Here we will test the function to recommend movies, a list of movies will be specified and the top 10 movies will be recommended."
   ]
  },
  {
   "cell_type": "code",
   "execution_count": null,
   "id": "7f3c9303",
   "metadata": {},
   "outputs": [],
   "source": [
    "movie_list = ['Guardian Angel (1994)','Jack Frost (1979)','Wasteland No. 1: Ardent Verdant (2017)']\n",
    "recommended_movies = collab_model(movie_list,top_n=10)"
   ]
  },
  {
   "cell_type": "code",
   "execution_count": null,
   "id": "c8987a69",
   "metadata": {},
   "outputs": [],
   "source": [
    "recommended_movies"
   ]
  },
  {
   "cell_type": "code",
   "execution_count": null,
   "id": "b0199bbb",
   "metadata": {},
   "outputs": [],
   "source": []
  },
  {
   "cell_type": "markdown",
   "id": "167b7622",
   "metadata": {},
   "source": [
    " <a id=\"twelve\"></a>\n",
    "## 12. Conclusion\n",
    "<a href=#cont>Back to Table of Contents</a>"
   ]
  },
  {
   "cell_type": "markdown",
   "id": "1834ef59",
   "metadata": {},
   "source": [
    "Business value and conclusion"
   ]
  },
  {
   "cell_type": "code",
   "execution_count": null,
   "id": "ac1f6976",
   "metadata": {},
   "outputs": [],
   "source": []
  },
  {
   "cell_type": "markdown",
   "id": "fea83d9d",
   "metadata": {},
   "source": [
    "End Commet.ml Experiment"
   ]
  },
  {
   "cell_type": "code",
   "execution_count": null,
   "id": "96e6db45",
   "metadata": {},
   "outputs": [],
   "source": [
    "experiment.display()"
   ]
  },
  {
   "cell_type": "code",
   "execution_count": 96,
   "id": "8453d815",
   "metadata": {},
   "outputs": [
    {
     "name": "stderr",
     "output_type": "stream",
     "text": [
      "COMET INFO: ---------------------------\n",
      "COMET INFO: Comet.ml Experiment Summary\n",
      "COMET INFO: ---------------------------\n",
      "COMET INFO:   Data:\n",
      "COMET INFO:     display_summary_level : 1\n",
      "COMET INFO:     url                   : https://www.comet.ml/henre7860/general/ec6c1e89602d49f8915a18ec70b7981c\n",
      "COMET INFO:   Parameters:\n",
      "COMET INFO:     begin_iteration          : 0\n",
      "COMET INFO:     bootstrap                : True\n",
      "COMET INFO:     ccp_alpha                : 0.0\n",
      "COMET INFO:     copy_X                   : True\n",
      "COMET INFO:     criterion                : mse\n",
      "COMET INFO:     end_iteration            : 100\n",
      "COMET INFO:     feature_names            : ['userId', 'action', 'adventure', 'animation', 'children', 'comedy', 'crime', 'documentary', 'drama', 'fantasy', 'fi', 'film', 'horror', 'imax', 'listed', 'musical', 'mystery', 'no', 'noir', 'romance', 'sci', 'thriller', 'war', 'western']\n",
      "COMET INFO:     feature_types            : ['int', 'int', 'int', 'int', 'int', 'int', 'int', 'int', 'int', 'int', 'int', 'int', 'int', 'int', 'int', 'int', 'int', 'int', 'int', 'int', 'int', 'int', 'int', 'int']\n",
      "COMET INFO:     fit_intercept            : True\n",
      "COMET INFO:     max_depth                : 8\n",
      "COMET INFO:     max_features             : auto\n",
      "COMET INFO:     max_leaf_nodes           : 1\n",
      "COMET INFO:     max_samples              : 1\n",
      "COMET INFO:     min_impurity_decrease    : 0.0\n",
      "COMET INFO:     min_impurity_split       : 1\n",
      "COMET INFO:     min_samples_leaf         : 1\n",
      "COMET INFO:     min_samples_split        : 2\n",
      "COMET INFO:     min_weight_fraction_leaf : 0.0\n",
      "COMET INFO:     n_estimators             : 500\n",
      "COMET INFO:     n_jobs                   : 1\n",
      "COMET INFO:     normalize                : False\n",
      "COMET INFO:     objective                : reg:squarederror\n",
      "COMET INFO:     oob_score                : False\n",
      "COMET INFO:     positive                 : False\n",
      "COMET INFO:     random_state             : 42\n",
      "COMET INFO:     rank                     : 0\n",
      "COMET INFO:     verbose                  : 0\n",
      "COMET INFO:     warm_start               : False\n",
      "COMET INFO:   Uploads:\n",
      "COMET INFO:     environment details      : 1\n",
      "COMET INFO:     filename                 : 1\n",
      "COMET INFO:     git metadata             : 1\n",
      "COMET INFO:     git-patch (uncompressed) : 1 (46.36 KB)\n",
      "COMET INFO:     installed packages       : 1\n",
      "COMET INFO:     notebook                 : 1\n",
      "COMET INFO:     source_code              : 1\n",
      "COMET INFO: ---------------------------\n",
      "COMET INFO: Uploading metrics, params, and assets to Comet before program termination (may take several seconds)\n",
      "COMET INFO: The Python SDK has 3600 seconds to finish before aborting...\n",
      "COMET INFO: Waiting for completion of the file uploads (may take several seconds)\n",
      "COMET INFO: The Python SDK has 10800 seconds to finish before aborting...\n",
      "COMET INFO: Still uploading 2 file(s), remaining 49.10 KB/67.24 KB\n"
     ]
    }
   ],
   "source": [
    "experiment.end()"
   ]
  },
  {
   "cell_type": "code",
   "execution_count": null,
   "id": "af71fdf4",
   "metadata": {},
   "outputs": [],
   "source": []
  }
 ],
 "metadata": {
  "kernelspec": {
   "display_name": "Python 3",
   "language": "python",
   "name": "python3"
  },
  "language_info": {
   "codemirror_mode": {
    "name": "ipython",
    "version": 3
   },
   "file_extension": ".py",
   "mimetype": "text/x-python",
   "name": "python",
   "nbconvert_exporter": "python",
   "pygments_lexer": "ipython3",
   "version": "3.8.8"
  }
 },
 "nbformat": 4,
 "nbformat_minor": 5
}
